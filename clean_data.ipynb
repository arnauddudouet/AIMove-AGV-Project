{
 "cells": [
  {
   "cell_type": "code",
   "execution_count": 61,
   "metadata": {
    "pycharm": {
     "is_executing": false
    }
   },
   "outputs": [],
   "source": [
    "import matplotlib.pyplot as plt\n",
    "%matplotlib notebook\n",
    "# %matplotlib ipympl\n",
    "import pandas as pd\n",
    "import numpy as np"
   ]
  },
  {
   "cell_type": "markdown",
   "metadata": {},
   "source": [
    "#### Generate Dataframe of all keypoints from JSON file"
   ]
  },
  {
   "cell_type": "code",
   "execution_count": 62,
   "metadata": {
    "pycharm": {
     "is_executing": false,
     "name": "#%%\n"
    }
   },
   "outputs": [
    {
     "name": "stdout",
     "output_type": "stream",
     "text": [
      "keypoints_all shape (181375, 9)\n"
     ]
    },
    {
     "data": {
      "text/html": [
       "<div>\n",
       "<style scoped>\n",
       "    .dataframe tbody tr th:only-of-type {\n",
       "        vertical-align: middle;\n",
       "    }\n",
       "\n",
       "    .dataframe tbody tr th {\n",
       "        vertical-align: top;\n",
       "    }\n",
       "\n",
       "    .dataframe thead th {\n",
       "        text-align: right;\n",
       "    }\n",
       "</style>\n",
       "<table border=\"1\" class=\"dataframe\">\n",
       "  <thead>\n",
       "    <tr style=\"text-align: right;\">\n",
       "      <th></th>\n",
       "      <th>Gesture</th>\n",
       "      <th>Sub folder No.</th>\n",
       "      <th>Frame No.</th>\n",
       "      <th>Person</th>\n",
       "      <th>Joint</th>\n",
       "      <th>X</th>\n",
       "      <th>Y</th>\n",
       "      <th>Probability</th>\n",
       "      <th>Depth</th>\n",
       "    </tr>\n",
       "  </thead>\n",
       "  <tbody>\n",
       "    <tr>\n",
       "      <th>0</th>\n",
       "      <td>1</td>\n",
       "      <td>1</td>\n",
       "      <td>1</td>\n",
       "      <td>0</td>\n",
       "      <td>0</td>\n",
       "      <td>0.0</td>\n",
       "      <td>0.0</td>\n",
       "      <td>0.0</td>\n",
       "      <td>0.031373</td>\n",
       "    </tr>\n",
       "    <tr>\n",
       "      <th>1</th>\n",
       "      <td>1</td>\n",
       "      <td>1</td>\n",
       "      <td>1</td>\n",
       "      <td>0</td>\n",
       "      <td>1</td>\n",
       "      <td>0.0</td>\n",
       "      <td>0.0</td>\n",
       "      <td>0.0</td>\n",
       "      <td>0.031373</td>\n",
       "    </tr>\n",
       "    <tr>\n",
       "      <th>2</th>\n",
       "      <td>1</td>\n",
       "      <td>1</td>\n",
       "      <td>1</td>\n",
       "      <td>0</td>\n",
       "      <td>2</td>\n",
       "      <td>0.0</td>\n",
       "      <td>0.0</td>\n",
       "      <td>0.0</td>\n",
       "      <td>0.031373</td>\n",
       "    </tr>\n",
       "    <tr>\n",
       "      <th>3</th>\n",
       "      <td>1</td>\n",
       "      <td>1</td>\n",
       "      <td>1</td>\n",
       "      <td>0</td>\n",
       "      <td>3</td>\n",
       "      <td>0.0</td>\n",
       "      <td>0.0</td>\n",
       "      <td>0.0</td>\n",
       "      <td>0.031373</td>\n",
       "    </tr>\n",
       "    <tr>\n",
       "      <th>4</th>\n",
       "      <td>1</td>\n",
       "      <td>1</td>\n",
       "      <td>1</td>\n",
       "      <td>0</td>\n",
       "      <td>4</td>\n",
       "      <td>0.0</td>\n",
       "      <td>0.0</td>\n",
       "      <td>0.0</td>\n",
       "      <td>0.031373</td>\n",
       "    </tr>\n",
       "  </tbody>\n",
       "</table>\n",
       "</div>"
      ],
      "text/plain": [
       "   Gesture  Sub folder No.  Frame No.  Person  Joint    X    Y  Probability  \\\n",
       "0        1               1          1       0      0  0.0  0.0          0.0   \n",
       "1        1               1          1       0      1  0.0  0.0          0.0   \n",
       "2        1               1          1       0      2  0.0  0.0          0.0   \n",
       "3        1               1          1       0      3  0.0  0.0          0.0   \n",
       "4        1               1          1       0      4  0.0  0.0          0.0   \n",
       "\n",
       "      Depth  \n",
       "0  0.031373  \n",
       "1  0.031373  \n",
       "2  0.031373  \n",
       "3  0.031373  \n",
       "4  0.031373  "
      ]
     },
     "execution_count": 62,
     "metadata": {},
     "output_type": "execute_result"
    }
   ],
   "source": [
    "keypoints_all = pd.read_json('./Keypoints_All.json', orient='records')\n",
    "new_columns = ['Gesture', 'Sub folder No.', 'Frame No.', 'Person', 'Joint', 'X', 'Y', 'Probability', 'Depth']\n",
    "keypoints_all = keypoints_all.reindex(columns = new_columns)\n",
    "print('keypoints_all shape', keypoints_all.shape)\n",
    "keypoints_all.head()"
   ]
  },
  {
   "cell_type": "markdown",
   "metadata": {},
   "source": [
    "#### Generate Dataframe of keypoints 1-7"
   ]
  },
  {
   "cell_type": "code",
   "execution_count": 63,
   "metadata": {
    "pycharm": {
     "is_executing": false,
     "name": "#%%\n"
    }
   },
   "outputs": [
    {
     "name": "stdout",
     "output_type": "stream",
     "text": [
      "keypoints_1_7 shape (50785, 9)\n"
     ]
    }
   ],
   "source": [
    "keypoints_1_7 = keypoints_all[keypoints_all['Joint'].isin(range(1,8))]\n",
    "print('keypoints_1_7 shape', keypoints_1_7.shape)"
   ]
  },
  {
   "cell_type": "markdown",
   "metadata": {},
   "source": [
    "#### Check Probability (from OpenPose output) per folder"
   ]
  },
  {
   "cell_type": "code",
   "execution_count": 64,
   "metadata": {
    "scrolled": false
   },
   "outputs": [
    {
     "data": {
      "application/vnd.jupyter.widget-view+json": {
       "model_id": "6356ba3b4de245bb8a47a8277b6c9497",
       "version_major": 2,
       "version_minor": 0
      },
      "text/plain": [
       "Canvas(toolbar=Toolbar(toolitems=[('Home', 'Reset original view', 'home', 'home'), ('Back', 'Back to previous …"
      ]
     },
     "metadata": {},
     "output_type": "display_data"
    },
    {
     "data": {
      "text/plain": [
       "<matplotlib.axes._subplots.AxesSubplot at 0x149e87dd0f0>"
      ]
     },
     "execution_count": 64,
     "metadata": {},
     "output_type": "execute_result"
    }
   ],
   "source": [
    "fig, axes = plt.subplots(2,1, sharex=True)\n",
    "pd.pivot_table(keypoints_1_7, index='Gesture', columns = 'Sub folder No.', values='Probability', aggfunc='mean').plot(kind='bar', ax=axes[0], title='Average of all keypoints\\' Probability per folder', legend=False, alpha=0.5)\n",
    "pd.pivot_table(keypoints_1_7, index='Gesture', columns = 'Sub folder No.', values='Probability', aggfunc='var').plot(kind='bar', ax=axes[1], title='Variance of all keypoints\\' Probability per folder', legend=False, alpha=0.5)"
   ]
  },
  {
   "cell_type": "markdown",
   "metadata": {},
   "source": [
    "#### Observe distribution of Probability"
   ]
  },
  {
   "cell_type": "code",
   "execution_count": 65,
   "metadata": {
    "pycharm": {
     "is_executing": false,
     "name": "#%%\n"
    },
    "scrolled": false
   },
   "outputs": [
    {
     "data": {
      "application/vnd.jupyter.widget-view+json": {
       "model_id": "8845e784f1354751a6a3a7d89a09e8c8",
       "version_major": 2,
       "version_minor": 0
      },
      "text/plain": [
       "Canvas(toolbar=Toolbar(toolitems=[('Home', 'Reset original view', 'home', 'home'), ('Back', 'Back to previous …"
      ]
     },
     "metadata": {},
     "output_type": "display_data"
    },
    {
     "data": {
      "text/plain": [
       "<matplotlib.axes._subplots.AxesSubplot at 0x149e4f30390>"
      ]
     },
     "execution_count": 65,
     "metadata": {},
     "output_type": "execute_result"
    }
   ],
   "source": [
    "fig = plt.figure()\n",
    "keypoints_1_7['Probability'].plot.hist(bins=100, title='Distribution of \\\"Probability\\\" (OpenPose output)', alpha=0.5)"
   ]
  },
  {
   "cell_type": "markdown",
   "metadata": {},
   "source": [
    "#### Get Probability value at percentile 5, use it as probability threshold for later data cleaning"
   ]
  },
  {
   "cell_type": "code",
   "execution_count": 66,
   "metadata": {},
   "outputs": [
    {
     "name": "stdout",
     "output_type": "stream",
     "text": [
      "0.5051861882400001\n"
     ]
    }
   ],
   "source": [
    "prob_threshold = keypoints_1_7['Probability'].quantile(0.05)\n",
    "print(prob_threshold)"
   ]
  },
  {
   "cell_type": "markdown",
   "metadata": {},
   "source": [
    "#### Calculate the percentage of \"low probability keypoints\" (keypoints probability < probability threshold) per foler"
   ]
  },
  {
   "cell_type": "code",
   "execution_count": 67,
   "metadata": {},
   "outputs": [
    {
     "data": {
      "application/vnd.jupyter.widget-view+json": {
       "model_id": "404cceb3a325462bbc0919a5d3637864",
       "version_major": 2,
       "version_minor": 0
      },
      "text/plain": [
       "Canvas(toolbar=Toolbar(toolitems=[('Home', 'Reset original view', 'home', 'home'), ('Back', 'Back to previous …"
      ]
     },
     "metadata": {},
     "output_type": "display_data"
    },
    {
     "data": {
      "text/plain": [
       "<matplotlib.axes._subplots.AxesSubplot at 0x149df826f60>"
      ]
     },
     "execution_count": 67,
     "metadata": {},
     "output_type": "execute_result"
    }
   ],
   "source": [
    "keypoints_1_7_folder_prob_threshold_percent = keypoints_1_7.pivot_table(index = ['Gesture', 'Sub folder No.'], values='Probability', aggfunc = lambda x:np.count_nonzero(x<prob_threshold)/len(x)*100)\n",
    "keypoints_1_7.pivot_table(index = 'Gesture', columns = 'Sub folder No.', values='Probability', aggfunc = lambda x:np.count_nonzero(x<prob_threshold)/len(x)*100).plot.bar(title='Before folder filter, Percentage of \\\"low probability keypoints\\\" per folder', legend=False, alpha=0.5)"
   ]
  },
  {
   "cell_type": "markdown",
   "metadata": {},
   "source": [
    "#### Filter the folders and keey only the folders has less than 10 percent of \"low probability keypoints\" "
   ]
  },
  {
   "cell_type": "code",
   "execution_count": 68,
   "metadata": {
    "scrolled": true
   },
   "outputs": [
    {
     "name": "stdout",
     "output_type": "stream",
     "text": [
      "keypoints_1_7_filtered shape (42819, 9)\n"
     ]
    }
   ],
   "source": [
    "low_prob_keypoints_percentage_threshold = 10\n",
    "keypoints_1_7_folder_filtered_index = keypoints_1_7_folder_prob_threshold_percent[keypoints_1_7_folder_prob_threshold_percent['Probability'] < low_prob_keypoints_percentage_threshold].index.tolist()\n",
    "keypoints_1_7_folder_filtered = keypoints_1_7[keypoints_1_7[['Gesture','Sub folder No.']].apply(lambda x:(x[0],x[1]) in keypoints_1_7_folder_filtered_index, axis=1)]\n",
    "\n",
    "print('keypoints_1_7_filtered shape', keypoints_1_7_folder_filtered.shape)"
   ]
  },
  {
   "cell_type": "code",
   "execution_count": 69,
   "metadata": {},
   "outputs": [
    {
     "data": {
      "application/vnd.jupyter.widget-view+json": {
       "model_id": "a06fa0a330934631984d54a965ad2459",
       "version_major": 2,
       "version_minor": 0
      },
      "text/plain": [
       "Canvas(toolbar=Toolbar(toolitems=[('Home', 'Reset original view', 'home', 'home'), ('Back', 'Back to previous …"
      ]
     },
     "metadata": {},
     "output_type": "display_data"
    }
   ],
   "source": [
    "keypoints_1_7_folder_filtered.pivot_table(index = 'Gesture', columns = 'Sub folder No.', values='Probability', aggfunc = lambda x:np.count_nonzero(x<prob_threshold)/len(x)*100).plot.bar(title='After folder filter, Percentage of \\\"low probability keypoint\\\" per folder', legend=False, alpha=0.5)\n",
    "plt.show()"
   ]
  },
  {
   "cell_type": "code",
   "execution_count": 70,
   "metadata": {
    "pycharm": {
     "is_executing": false,
     "name": "#%%\n"
    },
    "scrolled": false
   },
   "outputs": [
    {
     "data": {
      "application/vnd.jupyter.widget-view+json": {
       "model_id": "1ab60c39f947483da00d09898d8c285c",
       "version_major": 2,
       "version_minor": 0
      },
      "text/plain": [
       "Canvas(toolbar=Toolbar(toolitems=[('Home', 'Reset original view', 'home', 'home'), ('Back', 'Back to previous …"
      ]
     },
     "metadata": {},
     "output_type": "display_data"
    },
    {
     "data": {
      "text/plain": [
       "<matplotlib.axes._subplots.AxesSubplot at 0x149dfc192e8>"
      ]
     },
     "execution_count": 70,
     "metadata": {},
     "output_type": "execute_result"
    }
   ],
   "source": [
    "fig, axes = plt.subplots(2,1, sharex=True)\n",
    "pd.pivot_table(keypoints_1_7_folder_filtered, index='Gesture', columns = 'Sub folder No.', values='Probability', aggfunc='mean').plot(kind='bar', ax=axes[0], title='Average of all keypoints\\' Probability per folder', legend=False, alpha=0.5)\n",
    "pd.pivot_table(keypoints_1_7_folder_filtered, index='Gesture', columns = 'Sub folder No.', values='Probability', aggfunc='var').plot(kind='bar', ax=axes[1], title='Variance of all keypoints\\' Probability per folder', legend=False, alpha=0.5)"
   ]
  },
  {
   "cell_type": "markdown",
   "metadata": {},
   "source": [
    "#### Check the X values of Joint 3 in all frames, we can see there are 0 values, this also need to be cleaned"
   ]
  },
  {
   "cell_type": "code",
   "execution_count": 71,
   "metadata": {},
   "outputs": [
    {
     "data": {
      "application/vnd.jupyter.widget-view+json": {
       "model_id": "c0f57637eb664736a14a97ee0e970dc3",
       "version_major": 2,
       "version_minor": 0
      },
      "text/plain": [
       "Canvas(toolbar=Toolbar(toolitems=[('Home', 'Reset original view', 'home', 'home'), ('Back', 'Back to previous …"
      ]
     },
     "metadata": {},
     "output_type": "display_data"
    },
    {
     "data": {
      "text/plain": [
       "<matplotlib.axes._subplots.AxesSubplot at 0x149df9601d0>"
      ]
     },
     "execution_count": 71,
     "metadata": {},
     "output_type": "execute_result"
    }
   ],
   "source": [
    "keypoints_1_7_folder_filtered[keypoints_1_7_folder_filtered['Joint']==3].pivot_table(index = 'Frame No.', columns = ['Gesture', 'Sub folder No.'], values='X').plot.line(alpha=0.5)"
   ]
  },
  {
   "cell_type": "markdown",
   "metadata": {},
   "source": [
    "#### We use Weighted Moving Average Smoothing to clean the 0 values of X and Y.\n",
    "#### First, prepare a dataframe with t-1 and t+1 values for each keypoints"
   ]
  },
  {
   "cell_type": "code",
   "execution_count": 72,
   "metadata": {
    "scrolled": false
   },
   "outputs": [
    {
     "data": {
      "text/html": [
       "<div>\n",
       "<style scoped>\n",
       "    .dataframe tbody tr th:only-of-type {\n",
       "        vertical-align: middle;\n",
       "    }\n",
       "\n",
       "    .dataframe tbody tr th {\n",
       "        vertical-align: top;\n",
       "    }\n",
       "\n",
       "    .dataframe thead th {\n",
       "        text-align: right;\n",
       "    }\n",
       "</style>\n",
       "<table border=\"1\" class=\"dataframe\">\n",
       "  <thead>\n",
       "    <tr style=\"text-align: right;\">\n",
       "      <th></th>\n",
       "      <th>Gesture</th>\n",
       "      <th>Sub folder No.</th>\n",
       "      <th>Frame No.</th>\n",
       "      <th>Person</th>\n",
       "      <th>Joint</th>\n",
       "      <th>X</th>\n",
       "      <th>Y</th>\n",
       "      <th>Probability</th>\n",
       "      <th>Depth</th>\n",
       "      <th>X(t-1)</th>\n",
       "      <th>Y(t-1)</th>\n",
       "      <th>Probability(t-1)</th>\n",
       "      <th>X(t+1)</th>\n",
       "      <th>Y(t+1)</th>\n",
       "      <th>Probability(t+1)</th>\n",
       "    </tr>\n",
       "  </thead>\n",
       "  <tbody>\n",
       "    <tr>\n",
       "      <th>4926</th>\n",
       "      <td>1</td>\n",
       "      <td>4</td>\n",
       "      <td>1</td>\n",
       "      <td>0</td>\n",
       "      <td>1</td>\n",
       "      <td>599.539856</td>\n",
       "      <td>117.944977</td>\n",
       "      <td>0.606791</td>\n",
       "      <td>0.341176</td>\n",
       "      <td>NaN</td>\n",
       "      <td>NaN</td>\n",
       "      <td>NaN</td>\n",
       "      <td>538.226440</td>\n",
       "      <td>120.586067</td>\n",
       "      <td>0.831424</td>\n",
       "    </tr>\n",
       "    <tr>\n",
       "      <th>4927</th>\n",
       "      <td>1</td>\n",
       "      <td>4</td>\n",
       "      <td>1</td>\n",
       "      <td>0</td>\n",
       "      <td>2</td>\n",
       "      <td>585.228027</td>\n",
       "      <td>110.167336</td>\n",
       "      <td>0.484397</td>\n",
       "      <td>0.501961</td>\n",
       "      <td>NaN</td>\n",
       "      <td>NaN</td>\n",
       "      <td>NaN</td>\n",
       "      <td>497.787415</td>\n",
       "      <td>130.999329</td>\n",
       "      <td>0.744093</td>\n",
       "    </tr>\n",
       "    <tr>\n",
       "      <th>4928</th>\n",
       "      <td>1</td>\n",
       "      <td>4</td>\n",
       "      <td>1</td>\n",
       "      <td>0</td>\n",
       "      <td>3</td>\n",
       "      <td>530.401123</td>\n",
       "      <td>174.084900</td>\n",
       "      <td>0.800581</td>\n",
       "      <td>0.733333</td>\n",
       "      <td>NaN</td>\n",
       "      <td>NaN</td>\n",
       "      <td>NaN</td>\n",
       "      <td>474.329376</td>\n",
       "      <td>202.840897</td>\n",
       "      <td>0.887369</td>\n",
       "    </tr>\n",
       "    <tr>\n",
       "      <th>4929</th>\n",
       "      <td>1</td>\n",
       "      <td>4</td>\n",
       "      <td>1</td>\n",
       "      <td>0</td>\n",
       "      <td>4</td>\n",
       "      <td>527.758240</td>\n",
       "      <td>129.748550</td>\n",
       "      <td>0.760209</td>\n",
       "      <td>0.705882</td>\n",
       "      <td>NaN</td>\n",
       "      <td>NaN</td>\n",
       "      <td>NaN</td>\n",
       "      <td>433.882629</td>\n",
       "      <td>258.918304</td>\n",
       "      <td>0.834839</td>\n",
       "    </tr>\n",
       "    <tr>\n",
       "      <th>4930</th>\n",
       "      <td>1</td>\n",
       "      <td>4</td>\n",
       "      <td>1</td>\n",
       "      <td>0</td>\n",
       "      <td>5</td>\n",
       "      <td>610.026001</td>\n",
       "      <td>121.889938</td>\n",
       "      <td>0.664449</td>\n",
       "      <td>0.333333</td>\n",
       "      <td>NaN</td>\n",
       "      <td>NaN</td>\n",
       "      <td>NaN</td>\n",
       "      <td>577.405212</td>\n",
       "      <td>111.475510</td>\n",
       "      <td>0.703935</td>\n",
       "    </tr>\n",
       "    <tr>\n",
       "      <th>4931</th>\n",
       "      <td>1</td>\n",
       "      <td>4</td>\n",
       "      <td>1</td>\n",
       "      <td>0</td>\n",
       "      <td>6</td>\n",
       "      <td>569.547424</td>\n",
       "      <td>213.194748</td>\n",
       "      <td>0.837365</td>\n",
       "      <td>0.325490</td>\n",
       "      <td>NaN</td>\n",
       "      <td>NaN</td>\n",
       "      <td>NaN</td>\n",
       "      <td>611.282471</td>\n",
       "      <td>201.496506</td>\n",
       "      <td>0.811391</td>\n",
       "    </tr>\n",
       "    <tr>\n",
       "      <th>4932</th>\n",
       "      <td>1</td>\n",
       "      <td>4</td>\n",
       "      <td>1</td>\n",
       "      <td>0</td>\n",
       "      <td>7</td>\n",
       "      <td>486.079956</td>\n",
       "      <td>192.379120</td>\n",
       "      <td>0.828425</td>\n",
       "      <td>0.415686</td>\n",
       "      <td>NaN</td>\n",
       "      <td>NaN</td>\n",
       "      <td>NaN</td>\n",
       "      <td>547.374878</td>\n",
       "      <td>254.978317</td>\n",
       "      <td>0.840501</td>\n",
       "    </tr>\n",
       "    <tr>\n",
       "      <th>4951</th>\n",
       "      <td>1</td>\n",
       "      <td>4</td>\n",
       "      <td>2</td>\n",
       "      <td>0</td>\n",
       "      <td>1</td>\n",
       "      <td>538.226440</td>\n",
       "      <td>120.586067</td>\n",
       "      <td>0.831424</td>\n",
       "      <td>0.454902</td>\n",
       "      <td>599.539856</td>\n",
       "      <td>117.944977</td>\n",
       "      <td>0.606791</td>\n",
       "      <td>587.830200</td>\n",
       "      <td>108.876297</td>\n",
       "      <td>0.653654</td>\n",
       "    </tr>\n",
       "    <tr>\n",
       "      <th>4952</th>\n",
       "      <td>1</td>\n",
       "      <td>4</td>\n",
       "      <td>2</td>\n",
       "      <td>0</td>\n",
       "      <td>2</td>\n",
       "      <td>497.787415</td>\n",
       "      <td>130.999329</td>\n",
       "      <td>0.744093</td>\n",
       "      <td>0.635294</td>\n",
       "      <td>585.228027</td>\n",
       "      <td>110.167336</td>\n",
       "      <td>0.484397</td>\n",
       "      <td>568.263733</td>\n",
       "      <td>106.234604</td>\n",
       "      <td>0.543617</td>\n",
       "    </tr>\n",
       "    <tr>\n",
       "      <th>4953</th>\n",
       "      <td>1</td>\n",
       "      <td>4</td>\n",
       "      <td>2</td>\n",
       "      <td>0</td>\n",
       "      <td>3</td>\n",
       "      <td>474.329376</td>\n",
       "      <td>202.840897</td>\n",
       "      <td>0.887369</td>\n",
       "      <td>0.627451</td>\n",
       "      <td>530.401123</td>\n",
       "      <td>174.084900</td>\n",
       "      <td>0.800581</td>\n",
       "      <td>538.255554</td>\n",
       "      <td>157.121521</td>\n",
       "      <td>0.425784</td>\n",
       "    </tr>\n",
       "    <tr>\n",
       "      <th>4954</th>\n",
       "      <td>1</td>\n",
       "      <td>4</td>\n",
       "      <td>2</td>\n",
       "      <td>0</td>\n",
       "      <td>4</td>\n",
       "      <td>433.882629</td>\n",
       "      <td>258.918304</td>\n",
       "      <td>0.834839</td>\n",
       "      <td>0.513725</td>\n",
       "      <td>527.758240</td>\n",
       "      <td>129.748550</td>\n",
       "      <td>0.760209</td>\n",
       "      <td>516.010681</td>\n",
       "      <td>174.123077</td>\n",
       "      <td>0.699642</td>\n",
       "    </tr>\n",
       "    <tr>\n",
       "      <th>4955</th>\n",
       "      <td>1</td>\n",
       "      <td>4</td>\n",
       "      <td>2</td>\n",
       "      <td>0</td>\n",
       "      <td>5</td>\n",
       "      <td>577.405212</td>\n",
       "      <td>111.475510</td>\n",
       "      <td>0.703935</td>\n",
       "      <td>0.333333</td>\n",
       "      <td>610.026001</td>\n",
       "      <td>121.889938</td>\n",
       "      <td>0.664449</td>\n",
       "      <td>604.814819</td>\n",
       "      <td>111.425262</td>\n",
       "      <td>0.614524</td>\n",
       "    </tr>\n",
       "    <tr>\n",
       "      <th>4956</th>\n",
       "      <td>1</td>\n",
       "      <td>4</td>\n",
       "      <td>2</td>\n",
       "      <td>0</td>\n",
       "      <td>6</td>\n",
       "      <td>611.282471</td>\n",
       "      <td>201.496506</td>\n",
       "      <td>0.811391</td>\n",
       "      <td>0.341176</td>\n",
       "      <td>569.547424</td>\n",
       "      <td>213.194748</td>\n",
       "      <td>0.837365</td>\n",
       "      <td>568.238586</td>\n",
       "      <td>193.727951</td>\n",
       "      <td>0.789927</td>\n",
       "    </tr>\n",
       "    <tr>\n",
       "      <th>4957</th>\n",
       "      <td>1</td>\n",
       "      <td>4</td>\n",
       "      <td>2</td>\n",
       "      <td>0</td>\n",
       "      <td>7</td>\n",
       "      <td>547.374878</td>\n",
       "      <td>254.978317</td>\n",
       "      <td>0.840501</td>\n",
       "      <td>0.392157</td>\n",
       "      <td>486.079956</td>\n",
       "      <td>192.379120</td>\n",
       "      <td>0.828425</td>\n",
       "      <td>482.087555</td>\n",
       "      <td>217.173309</td>\n",
       "      <td>0.738809</td>\n",
       "    </tr>\n",
       "  </tbody>\n",
       "</table>\n",
       "</div>"
      ],
      "text/plain": [
       "      Gesture  Sub folder No.  Frame No.  Person  Joint           X  \\\n",
       "4926        1               4          1       0      1  599.539856   \n",
       "4927        1               4          1       0      2  585.228027   \n",
       "4928        1               4          1       0      3  530.401123   \n",
       "4929        1               4          1       0      4  527.758240   \n",
       "4930        1               4          1       0      5  610.026001   \n",
       "4931        1               4          1       0      6  569.547424   \n",
       "4932        1               4          1       0      7  486.079956   \n",
       "4951        1               4          2       0      1  538.226440   \n",
       "4952        1               4          2       0      2  497.787415   \n",
       "4953        1               4          2       0      3  474.329376   \n",
       "4954        1               4          2       0      4  433.882629   \n",
       "4955        1               4          2       0      5  577.405212   \n",
       "4956        1               4          2       0      6  611.282471   \n",
       "4957        1               4          2       0      7  547.374878   \n",
       "\n",
       "               Y  Probability     Depth      X(t-1)      Y(t-1)  \\\n",
       "4926  117.944977     0.606791  0.341176         NaN         NaN   \n",
       "4927  110.167336     0.484397  0.501961         NaN         NaN   \n",
       "4928  174.084900     0.800581  0.733333         NaN         NaN   \n",
       "4929  129.748550     0.760209  0.705882         NaN         NaN   \n",
       "4930  121.889938     0.664449  0.333333         NaN         NaN   \n",
       "4931  213.194748     0.837365  0.325490         NaN         NaN   \n",
       "4932  192.379120     0.828425  0.415686         NaN         NaN   \n",
       "4951  120.586067     0.831424  0.454902  599.539856  117.944977   \n",
       "4952  130.999329     0.744093  0.635294  585.228027  110.167336   \n",
       "4953  202.840897     0.887369  0.627451  530.401123  174.084900   \n",
       "4954  258.918304     0.834839  0.513725  527.758240  129.748550   \n",
       "4955  111.475510     0.703935  0.333333  610.026001  121.889938   \n",
       "4956  201.496506     0.811391  0.341176  569.547424  213.194748   \n",
       "4957  254.978317     0.840501  0.392157  486.079956  192.379120   \n",
       "\n",
       "      Probability(t-1)      X(t+1)      Y(t+1)  Probability(t+1)  \n",
       "4926               NaN  538.226440  120.586067          0.831424  \n",
       "4927               NaN  497.787415  130.999329          0.744093  \n",
       "4928               NaN  474.329376  202.840897          0.887369  \n",
       "4929               NaN  433.882629  258.918304          0.834839  \n",
       "4930               NaN  577.405212  111.475510          0.703935  \n",
       "4931               NaN  611.282471  201.496506          0.811391  \n",
       "4932               NaN  547.374878  254.978317          0.840501  \n",
       "4951          0.606791  587.830200  108.876297          0.653654  \n",
       "4952          0.484397  568.263733  106.234604          0.543617  \n",
       "4953          0.800581  538.255554  157.121521          0.425784  \n",
       "4954          0.760209  516.010681  174.123077          0.699642  \n",
       "4955          0.664449  604.814819  111.425262          0.614524  \n",
       "4956          0.837365  568.238586  193.727951          0.789927  \n",
       "4957          0.828425  482.087555  217.173309          0.738809  "
      ]
     },
     "execution_count": 72,
     "metadata": {},
     "output_type": "execute_result"
    }
   ],
   "source": [
    "df = pd.concat([keypoints_1_7_folder_filtered, keypoints_1_7_folder_filtered.shift(7)[['X', 'Y', 'Probability']].rename(columns={'X':'X(t-1)', 'Y':'Y(t-1)', 'Probability':'Probability(t-1)'}), keypoints_1_7_folder_filtered.shift(-7)[['X', 'Y', 'Probability']].rename(columns={'X':'X(t+1)', 'Y':'Y(t+1)', 'Probability':'Probability(t+1)'})], axis=1)\n",
    "df.head(14)"
   ]
  },
  {
   "cell_type": "markdown",
   "metadata": {},
   "source": [
    "#### Use Weighted Moving Average Smoothing to calculate X_cleaned and Y_cleaned"
   ]
  },
  {
   "cell_type": "code",
   "execution_count": 73,
   "metadata": {},
   "outputs": [],
   "source": [
    "X_cleaned = df.apply(lambda row: (row['X']*row['Probability'] + row['X(t-1)']*row['Probability(t-1)'] + row['X(t+1)']*row['Probability(t+1)'])/(row['Probability']+row['Probability(t-1)']+row['Probability(t+1)']) if row['Probability']==0 else row['X'], axis=1)\n",
    "Y_cleaned = df.apply(lambda row: (row['Y']*row['Probability'] + row['Y(t-1)']*row['Probability(t-1)'] + row['Y(t+1)']*row['Probability(t+1)'])/(row['Probability']+row['Probability(t-1)']+row['Probability(t+1)']) if row['Probability']==0 else row['Y'], axis=1)"
   ]
  },
  {
   "cell_type": "markdown",
   "metadata": {},
   "source": [
    "#### Add cleaned X and Y to the original dataframe"
   ]
  },
  {
   "cell_type": "code",
   "execution_count": 74,
   "metadata": {},
   "outputs": [
    {
     "data": {
      "text/html": [
       "<div>\n",
       "<style scoped>\n",
       "    .dataframe tbody tr th:only-of-type {\n",
       "        vertical-align: middle;\n",
       "    }\n",
       "\n",
       "    .dataframe tbody tr th {\n",
       "        vertical-align: top;\n",
       "    }\n",
       "\n",
       "    .dataframe thead th {\n",
       "        text-align: right;\n",
       "    }\n",
       "</style>\n",
       "<table border=\"1\" class=\"dataframe\">\n",
       "  <thead>\n",
       "    <tr style=\"text-align: right;\">\n",
       "      <th></th>\n",
       "      <th>Gesture</th>\n",
       "      <th>Sub folder No.</th>\n",
       "      <th>Frame No.</th>\n",
       "      <th>Person</th>\n",
       "      <th>Joint</th>\n",
       "      <th>X</th>\n",
       "      <th>Y</th>\n",
       "      <th>Probability</th>\n",
       "      <th>Depth</th>\n",
       "      <th>X_cleaned</th>\n",
       "      <th>Y_cleaned</th>\n",
       "    </tr>\n",
       "  </thead>\n",
       "  <tbody>\n",
       "    <tr>\n",
       "      <th>13504</th>\n",
       "      <td>1</td>\n",
       "      <td>12</td>\n",
       "      <td>34</td>\n",
       "      <td>0</td>\n",
       "      <td>4</td>\n",
       "      <td>0.0</td>\n",
       "      <td>0.0</td>\n",
       "      <td>0.0</td>\n",
       "      <td>0.039216</td>\n",
       "      <td>428.795566</td>\n",
       "      <td>193.354531</td>\n",
       "    </tr>\n",
       "    <tr>\n",
       "      <th>16331</th>\n",
       "      <td>1</td>\n",
       "      <td>15</td>\n",
       "      <td>29</td>\n",
       "      <td>0</td>\n",
       "      <td>6</td>\n",
       "      <td>0.0</td>\n",
       "      <td>0.0</td>\n",
       "      <td>0.0</td>\n",
       "      <td>0.917647</td>\n",
       "      <td>617.835623</td>\n",
       "      <td>193.691148</td>\n",
       "    </tr>\n",
       "    <tr>\n",
       "      <th>16332</th>\n",
       "      <td>1</td>\n",
       "      <td>15</td>\n",
       "      <td>29</td>\n",
       "      <td>0</td>\n",
       "      <td>7</td>\n",
       "      <td>0.0</td>\n",
       "      <td>0.0</td>\n",
       "      <td>0.0</td>\n",
       "      <td>0.917647</td>\n",
       "      <td>550.622166</td>\n",
       "      <td>175.391640</td>\n",
       "    </tr>\n",
       "    <tr>\n",
       "      <th>16581</th>\n",
       "      <td>1</td>\n",
       "      <td>15</td>\n",
       "      <td>39</td>\n",
       "      <td>0</td>\n",
       "      <td>6</td>\n",
       "      <td>0.0</td>\n",
       "      <td>0.0</td>\n",
       "      <td>0.0</td>\n",
       "      <td>0.925490</td>\n",
       "      <td>611.923678</td>\n",
       "      <td>193.682379</td>\n",
       "    </tr>\n",
       "    <tr>\n",
       "      <th>16582</th>\n",
       "      <td>1</td>\n",
       "      <td>15</td>\n",
       "      <td>39</td>\n",
       "      <td>0</td>\n",
       "      <td>7</td>\n",
       "      <td>0.0</td>\n",
       "      <td>0.0</td>\n",
       "      <td>0.0</td>\n",
       "      <td>0.925490</td>\n",
       "      <td>544.732730</td>\n",
       "      <td>181.237718</td>\n",
       "    </tr>\n",
       "  </tbody>\n",
       "</table>\n",
       "</div>"
      ],
      "text/plain": [
       "       Gesture  Sub folder No.  Frame No.  Person  Joint    X    Y  \\\n",
       "13504        1              12         34       0      4  0.0  0.0   \n",
       "16331        1              15         29       0      6  0.0  0.0   \n",
       "16332        1              15         29       0      7  0.0  0.0   \n",
       "16581        1              15         39       0      6  0.0  0.0   \n",
       "16582        1              15         39       0      7  0.0  0.0   \n",
       "\n",
       "       Probability     Depth   X_cleaned   Y_cleaned  \n",
       "13504          0.0  0.039216  428.795566  193.354531  \n",
       "16331          0.0  0.917647  617.835623  193.691148  \n",
       "16332          0.0  0.917647  550.622166  175.391640  \n",
       "16581          0.0  0.925490  611.923678  193.682379  \n",
       "16582          0.0  0.925490  544.732730  181.237718  "
      ]
     },
     "execution_count": 74,
     "metadata": {},
     "output_type": "execute_result"
    }
   ],
   "source": [
    "keypoints_1_7_frame_cleaned = pd.concat([keypoints_1_7_folder_filtered, X_cleaned.rename('X_cleaned'), Y_cleaned.rename('Y_cleaned')], axis=1)\n",
    "keypoints_1_7_frame_cleaned[keypoints_1_7_frame_cleaned['Probability']==0].head()"
   ]
  },
  {
   "cell_type": "markdown",
   "metadata": {},
   "source": [
    "#### Recheck the X values of Joint 3 in all frames, we can see no more 0 values"
   ]
  },
  {
   "cell_type": "code",
   "execution_count": 75,
   "metadata": {
    "scrolled": false
   },
   "outputs": [
    {
     "data": {
      "application/vnd.jupyter.widget-view+json": {
       "model_id": "b840e44aa57047d7ae0cc3d072be11f7",
       "version_major": 2,
       "version_minor": 0
      },
      "text/plain": [
       "Canvas(toolbar=Toolbar(toolitems=[('Home', 'Reset original view', 'home', 'home'), ('Back', 'Back to previous …"
      ]
     },
     "metadata": {},
     "output_type": "display_data"
    },
    {
     "data": {
      "text/plain": [
       "<matplotlib.axes._subplots.AxesSubplot at 0x149ea521160>"
      ]
     },
     "execution_count": 75,
     "metadata": {},
     "output_type": "execute_result"
    }
   ],
   "source": [
    "keypoints_1_7_frame_cleaned[keypoints_1_7_frame_cleaned['Joint']==3].pivot_table(index = 'Frame No.', columns = ['Gesture', 'Sub folder No.'], values='X_cleaned').plot.line(alpha=0.5)"
   ]
  },
  {
   "cell_type": "markdown",
   "metadata": {},
   "source": [
    "#### After data cleaning of OpenPose data, we also need to clean depth data"
   ]
  },
  {
   "cell_type": "markdown",
   "metadata": {},
   "source": [
    "#### Check the depth value when probability == 0 (aka. X==0 and Y==0)"
   ]
  },
  {
   "cell_type": "code",
   "execution_count": 76,
   "metadata": {
    "scrolled": false
   },
   "outputs": [
    {
     "data": {
      "text/html": [
       "<div>\n",
       "<style scoped>\n",
       "    .dataframe tbody tr th:only-of-type {\n",
       "        vertical-align: middle;\n",
       "    }\n",
       "\n",
       "    .dataframe tbody tr th {\n",
       "        vertical-align: top;\n",
       "    }\n",
       "\n",
       "    .dataframe thead tr th {\n",
       "        text-align: left;\n",
       "    }\n",
       "\n",
       "    .dataframe thead tr:last-of-type th {\n",
       "        text-align: right;\n",
       "    }\n",
       "</style>\n",
       "<table border=\"1\" class=\"dataframe\">\n",
       "  <thead>\n",
       "    <tr>\n",
       "      <th></th>\n",
       "      <th>Frame No.</th>\n",
       "      <th>9</th>\n",
       "      <th colspan=\"2\" halign=\"left\">11</th>\n",
       "      <th>16</th>\n",
       "      <th colspan=\"2\" halign=\"left\">18</th>\n",
       "      <th colspan=\"2\" halign=\"left\">21</th>\n",
       "      <th>23</th>\n",
       "      <th>27</th>\n",
       "      <th>...</th>\n",
       "      <th colspan=\"2\" halign=\"left\">184</th>\n",
       "      <th colspan=\"2\" halign=\"left\">241</th>\n",
       "      <th>360</th>\n",
       "      <th>552</th>\n",
       "      <th colspan=\"4\" halign=\"left\">554</th>\n",
       "    </tr>\n",
       "    <tr>\n",
       "      <th></th>\n",
       "      <th>Joint</th>\n",
       "      <th>4</th>\n",
       "      <th>3</th>\n",
       "      <th>4</th>\n",
       "      <th>4</th>\n",
       "      <th>3</th>\n",
       "      <th>4</th>\n",
       "      <th>3</th>\n",
       "      <th>4</th>\n",
       "      <th>4</th>\n",
       "      <th>4</th>\n",
       "      <th>...</th>\n",
       "      <th>3</th>\n",
       "      <th>4</th>\n",
       "      <th>6</th>\n",
       "      <th>7</th>\n",
       "      <th>4</th>\n",
       "      <th>7</th>\n",
       "      <th>1</th>\n",
       "      <th>2</th>\n",
       "      <th>3</th>\n",
       "      <th>4</th>\n",
       "    </tr>\n",
       "    <tr>\n",
       "      <th>Gesture</th>\n",
       "      <th>Sub folder No.</th>\n",
       "      <th></th>\n",
       "      <th></th>\n",
       "      <th></th>\n",
       "      <th></th>\n",
       "      <th></th>\n",
       "      <th></th>\n",
       "      <th></th>\n",
       "      <th></th>\n",
       "      <th></th>\n",
       "      <th></th>\n",
       "      <th></th>\n",
       "      <th></th>\n",
       "      <th></th>\n",
       "      <th></th>\n",
       "      <th></th>\n",
       "      <th></th>\n",
       "      <th></th>\n",
       "      <th></th>\n",
       "      <th></th>\n",
       "      <th></th>\n",
       "      <th></th>\n",
       "    </tr>\n",
       "  </thead>\n",
       "  <tbody>\n",
       "    <tr>\n",
       "      <th rowspan=\"6\" valign=\"top\">1</th>\n",
       "      <th>12</th>\n",
       "      <td>NaN</td>\n",
       "      <td>NaN</td>\n",
       "      <td>NaN</td>\n",
       "      <td>NaN</td>\n",
       "      <td>NaN</td>\n",
       "      <td>NaN</td>\n",
       "      <td>NaN</td>\n",
       "      <td>NaN</td>\n",
       "      <td>NaN</td>\n",
       "      <td>NaN</td>\n",
       "      <td>...</td>\n",
       "      <td>NaN</td>\n",
       "      <td>NaN</td>\n",
       "      <td>NaN</td>\n",
       "      <td>NaN</td>\n",
       "      <td>NaN</td>\n",
       "      <td>NaN</td>\n",
       "      <td>NaN</td>\n",
       "      <td>NaN</td>\n",
       "      <td>NaN</td>\n",
       "      <td>NaN</td>\n",
       "    </tr>\n",
       "    <tr>\n",
       "      <th>15</th>\n",
       "      <td>NaN</td>\n",
       "      <td>NaN</td>\n",
       "      <td>NaN</td>\n",
       "      <td>NaN</td>\n",
       "      <td>NaN</td>\n",
       "      <td>NaN</td>\n",
       "      <td>NaN</td>\n",
       "      <td>NaN</td>\n",
       "      <td>NaN</td>\n",
       "      <td>NaN</td>\n",
       "      <td>...</td>\n",
       "      <td>NaN</td>\n",
       "      <td>NaN</td>\n",
       "      <td>NaN</td>\n",
       "      <td>NaN</td>\n",
       "      <td>NaN</td>\n",
       "      <td>NaN</td>\n",
       "      <td>NaN</td>\n",
       "      <td>NaN</td>\n",
       "      <td>NaN</td>\n",
       "      <td>NaN</td>\n",
       "    </tr>\n",
       "    <tr>\n",
       "      <th>24</th>\n",
       "      <td>0.976471</td>\n",
       "      <td>0.976471</td>\n",
       "      <td>0.976471</td>\n",
       "      <td>NaN</td>\n",
       "      <td>NaN</td>\n",
       "      <td>NaN</td>\n",
       "      <td>NaN</td>\n",
       "      <td>NaN</td>\n",
       "      <td>NaN</td>\n",
       "      <td>NaN</td>\n",
       "      <td>...</td>\n",
       "      <td>NaN</td>\n",
       "      <td>NaN</td>\n",
       "      <td>NaN</td>\n",
       "      <td>NaN</td>\n",
       "      <td>NaN</td>\n",
       "      <td>NaN</td>\n",
       "      <td>NaN</td>\n",
       "      <td>NaN</td>\n",
       "      <td>NaN</td>\n",
       "      <td>NaN</td>\n",
       "    </tr>\n",
       "    <tr>\n",
       "      <th>27</th>\n",
       "      <td>NaN</td>\n",
       "      <td>NaN</td>\n",
       "      <td>NaN</td>\n",
       "      <td>NaN</td>\n",
       "      <td>NaN</td>\n",
       "      <td>NaN</td>\n",
       "      <td>NaN</td>\n",
       "      <td>NaN</td>\n",
       "      <td>NaN</td>\n",
       "      <td>NaN</td>\n",
       "      <td>...</td>\n",
       "      <td>0.976471</td>\n",
       "      <td>0.976471</td>\n",
       "      <td>NaN</td>\n",
       "      <td>NaN</td>\n",
       "      <td>NaN</td>\n",
       "      <td>NaN</td>\n",
       "      <td>NaN</td>\n",
       "      <td>NaN</td>\n",
       "      <td>NaN</td>\n",
       "      <td>NaN</td>\n",
       "    </tr>\n",
       "    <tr>\n",
       "      <th>28</th>\n",
       "      <td>NaN</td>\n",
       "      <td>NaN</td>\n",
       "      <td>NaN</td>\n",
       "      <td>NaN</td>\n",
       "      <td>0.980392</td>\n",
       "      <td>0.980392</td>\n",
       "      <td>0.980392</td>\n",
       "      <td>0.980392</td>\n",
       "      <td>0.976471</td>\n",
       "      <td>0.976471</td>\n",
       "      <td>...</td>\n",
       "      <td>NaN</td>\n",
       "      <td>NaN</td>\n",
       "      <td>NaN</td>\n",
       "      <td>NaN</td>\n",
       "      <td>NaN</td>\n",
       "      <td>NaN</td>\n",
       "      <td>NaN</td>\n",
       "      <td>NaN</td>\n",
       "      <td>NaN</td>\n",
       "      <td>NaN</td>\n",
       "    </tr>\n",
       "    <tr>\n",
       "      <th>32</th>\n",
       "      <td>NaN</td>\n",
       "      <td>NaN</td>\n",
       "      <td>NaN</td>\n",
       "      <td>0.980392</td>\n",
       "      <td>NaN</td>\n",
       "      <td>NaN</td>\n",
       "      <td>NaN</td>\n",
       "      <td>NaN</td>\n",
       "      <td>0.980392</td>\n",
       "      <td>NaN</td>\n",
       "      <td>...</td>\n",
       "      <td>NaN</td>\n",
       "      <td>NaN</td>\n",
       "      <td>NaN</td>\n",
       "      <td>NaN</td>\n",
       "      <td>NaN</td>\n",
       "      <td>NaN</td>\n",
       "      <td>NaN</td>\n",
       "      <td>NaN</td>\n",
       "      <td>NaN</td>\n",
       "      <td>NaN</td>\n",
       "    </tr>\n",
       "    <tr>\n",
       "      <th rowspan=\"4\" valign=\"top\">2</th>\n",
       "      <th>1</th>\n",
       "      <td>NaN</td>\n",
       "      <td>NaN</td>\n",
       "      <td>NaN</td>\n",
       "      <td>NaN</td>\n",
       "      <td>NaN</td>\n",
       "      <td>NaN</td>\n",
       "      <td>NaN</td>\n",
       "      <td>NaN</td>\n",
       "      <td>NaN</td>\n",
       "      <td>0.031373</td>\n",
       "      <td>...</td>\n",
       "      <td>NaN</td>\n",
       "      <td>NaN</td>\n",
       "      <td>NaN</td>\n",
       "      <td>NaN</td>\n",
       "      <td>NaN</td>\n",
       "      <td>NaN</td>\n",
       "      <td>NaN</td>\n",
       "      <td>NaN</td>\n",
       "      <td>NaN</td>\n",
       "      <td>NaN</td>\n",
       "    </tr>\n",
       "    <tr>\n",
       "      <th>2</th>\n",
       "      <td>NaN</td>\n",
       "      <td>NaN</td>\n",
       "      <td>NaN</td>\n",
       "      <td>NaN</td>\n",
       "      <td>NaN</td>\n",
       "      <td>NaN</td>\n",
       "      <td>NaN</td>\n",
       "      <td>NaN</td>\n",
       "      <td>NaN</td>\n",
       "      <td>NaN</td>\n",
       "      <td>...</td>\n",
       "      <td>NaN</td>\n",
       "      <td>NaN</td>\n",
       "      <td>NaN</td>\n",
       "      <td>NaN</td>\n",
       "      <td>NaN</td>\n",
       "      <td>NaN</td>\n",
       "      <td>NaN</td>\n",
       "      <td>NaN</td>\n",
       "      <td>NaN</td>\n",
       "      <td>NaN</td>\n",
       "    </tr>\n",
       "    <tr>\n",
       "      <th>31</th>\n",
       "      <td>NaN</td>\n",
       "      <td>NaN</td>\n",
       "      <td>NaN</td>\n",
       "      <td>NaN</td>\n",
       "      <td>NaN</td>\n",
       "      <td>NaN</td>\n",
       "      <td>NaN</td>\n",
       "      <td>NaN</td>\n",
       "      <td>NaN</td>\n",
       "      <td>NaN</td>\n",
       "      <td>...</td>\n",
       "      <td>NaN</td>\n",
       "      <td>NaN</td>\n",
       "      <td>NaN</td>\n",
       "      <td>NaN</td>\n",
       "      <td>NaN</td>\n",
       "      <td>NaN</td>\n",
       "      <td>NaN</td>\n",
       "      <td>NaN</td>\n",
       "      <td>NaN</td>\n",
       "      <td>NaN</td>\n",
       "    </tr>\n",
       "    <tr>\n",
       "      <th>32</th>\n",
       "      <td>NaN</td>\n",
       "      <td>NaN</td>\n",
       "      <td>NaN</td>\n",
       "      <td>NaN</td>\n",
       "      <td>NaN</td>\n",
       "      <td>NaN</td>\n",
       "      <td>NaN</td>\n",
       "      <td>NaN</td>\n",
       "      <td>NaN</td>\n",
       "      <td>NaN</td>\n",
       "      <td>...</td>\n",
       "      <td>NaN</td>\n",
       "      <td>NaN</td>\n",
       "      <td>NaN</td>\n",
       "      <td>NaN</td>\n",
       "      <td>NaN</td>\n",
       "      <td>NaN</td>\n",
       "      <td>NaN</td>\n",
       "      <td>NaN</td>\n",
       "      <td>NaN</td>\n",
       "      <td>NaN</td>\n",
       "    </tr>\n",
       "    <tr>\n",
       "      <th rowspan=\"4\" valign=\"top\">3</th>\n",
       "      <th>5</th>\n",
       "      <td>NaN</td>\n",
       "      <td>NaN</td>\n",
       "      <td>NaN</td>\n",
       "      <td>NaN</td>\n",
       "      <td>NaN</td>\n",
       "      <td>NaN</td>\n",
       "      <td>NaN</td>\n",
       "      <td>NaN</td>\n",
       "      <td>NaN</td>\n",
       "      <td>NaN</td>\n",
       "      <td>...</td>\n",
       "      <td>NaN</td>\n",
       "      <td>NaN</td>\n",
       "      <td>0.92549</td>\n",
       "      <td>0.92549</td>\n",
       "      <td>0.976471</td>\n",
       "      <td>0.92549</td>\n",
       "      <td>0.929412</td>\n",
       "      <td>0.929412</td>\n",
       "      <td>0.929412</td>\n",
       "      <td>0.929412</td>\n",
       "    </tr>\n",
       "    <tr>\n",
       "      <th>12</th>\n",
       "      <td>NaN</td>\n",
       "      <td>NaN</td>\n",
       "      <td>NaN</td>\n",
       "      <td>NaN</td>\n",
       "      <td>NaN</td>\n",
       "      <td>NaN</td>\n",
       "      <td>NaN</td>\n",
       "      <td>NaN</td>\n",
       "      <td>NaN</td>\n",
       "      <td>NaN</td>\n",
       "      <td>...</td>\n",
       "      <td>NaN</td>\n",
       "      <td>NaN</td>\n",
       "      <td>NaN</td>\n",
       "      <td>NaN</td>\n",
       "      <td>NaN</td>\n",
       "      <td>NaN</td>\n",
       "      <td>NaN</td>\n",
       "      <td>NaN</td>\n",
       "      <td>NaN</td>\n",
       "      <td>NaN</td>\n",
       "    </tr>\n",
       "    <tr>\n",
       "      <th>13</th>\n",
       "      <td>NaN</td>\n",
       "      <td>NaN</td>\n",
       "      <td>NaN</td>\n",
       "      <td>NaN</td>\n",
       "      <td>NaN</td>\n",
       "      <td>NaN</td>\n",
       "      <td>NaN</td>\n",
       "      <td>NaN</td>\n",
       "      <td>NaN</td>\n",
       "      <td>NaN</td>\n",
       "      <td>...</td>\n",
       "      <td>NaN</td>\n",
       "      <td>NaN</td>\n",
       "      <td>NaN</td>\n",
       "      <td>NaN</td>\n",
       "      <td>NaN</td>\n",
       "      <td>NaN</td>\n",
       "      <td>NaN</td>\n",
       "      <td>NaN</td>\n",
       "      <td>NaN</td>\n",
       "      <td>NaN</td>\n",
       "    </tr>\n",
       "    <tr>\n",
       "      <th>14</th>\n",
       "      <td>NaN</td>\n",
       "      <td>NaN</td>\n",
       "      <td>NaN</td>\n",
       "      <td>NaN</td>\n",
       "      <td>NaN</td>\n",
       "      <td>NaN</td>\n",
       "      <td>NaN</td>\n",
       "      <td>NaN</td>\n",
       "      <td>NaN</td>\n",
       "      <td>NaN</td>\n",
       "      <td>...</td>\n",
       "      <td>NaN</td>\n",
       "      <td>NaN</td>\n",
       "      <td>NaN</td>\n",
       "      <td>NaN</td>\n",
       "      <td>NaN</td>\n",
       "      <td>NaN</td>\n",
       "      <td>NaN</td>\n",
       "      <td>NaN</td>\n",
       "      <td>NaN</td>\n",
       "      <td>NaN</td>\n",
       "    </tr>\n",
       "  </tbody>\n",
       "</table>\n",
       "<p>14 rows × 53 columns</p>\n",
       "</div>"
      ],
      "text/plain": [
       "Frame No.                    9         11                  16        18   \\\n",
       "Joint                          4         3         4         4         3   \n",
       "Gesture Sub folder No.                                                     \n",
       "1       12                   NaN       NaN       NaN       NaN       NaN   \n",
       "        15                   NaN       NaN       NaN       NaN       NaN   \n",
       "        24              0.976471  0.976471  0.976471       NaN       NaN   \n",
       "        27                   NaN       NaN       NaN       NaN       NaN   \n",
       "        28                   NaN       NaN       NaN       NaN  0.980392   \n",
       "        32                   NaN       NaN       NaN  0.980392       NaN   \n",
       "2       1                    NaN       NaN       NaN       NaN       NaN   \n",
       "        2                    NaN       NaN       NaN       NaN       NaN   \n",
       "        31                   NaN       NaN       NaN       NaN       NaN   \n",
       "        32                   NaN       NaN       NaN       NaN       NaN   \n",
       "3       5                    NaN       NaN       NaN       NaN       NaN   \n",
       "        12                   NaN       NaN       NaN       NaN       NaN   \n",
       "        13                   NaN       NaN       NaN       NaN       NaN   \n",
       "        14                   NaN       NaN       NaN       NaN       NaN   \n",
       "\n",
       "Frame No.                              21                  23        27   ...  \\\n",
       "Joint                          4         3         4         4         4  ...   \n",
       "Gesture Sub folder No.                                                    ...   \n",
       "1       12                   NaN       NaN       NaN       NaN       NaN  ...   \n",
       "        15                   NaN       NaN       NaN       NaN       NaN  ...   \n",
       "        24                   NaN       NaN       NaN       NaN       NaN  ...   \n",
       "        27                   NaN       NaN       NaN       NaN       NaN  ...   \n",
       "        28              0.980392  0.980392  0.980392  0.976471  0.976471  ...   \n",
       "        32                   NaN       NaN       NaN  0.980392       NaN  ...   \n",
       "2       1                    NaN       NaN       NaN       NaN  0.031373  ...   \n",
       "        2                    NaN       NaN       NaN       NaN       NaN  ...   \n",
       "        31                   NaN       NaN       NaN       NaN       NaN  ...   \n",
       "        32                   NaN       NaN       NaN       NaN       NaN  ...   \n",
       "3       5                    NaN       NaN       NaN       NaN       NaN  ...   \n",
       "        12                   NaN       NaN       NaN       NaN       NaN  ...   \n",
       "        13                   NaN       NaN       NaN       NaN       NaN  ...   \n",
       "        14                   NaN       NaN       NaN       NaN       NaN  ...   \n",
       "\n",
       "Frame No.                    184                241                360  \\\n",
       "Joint                          3         4        6        7         4   \n",
       "Gesture Sub folder No.                                                   \n",
       "1       12                   NaN       NaN      NaN      NaN       NaN   \n",
       "        15                   NaN       NaN      NaN      NaN       NaN   \n",
       "        24                   NaN       NaN      NaN      NaN       NaN   \n",
       "        27              0.976471  0.976471      NaN      NaN       NaN   \n",
       "        28                   NaN       NaN      NaN      NaN       NaN   \n",
       "        32                   NaN       NaN      NaN      NaN       NaN   \n",
       "2       1                    NaN       NaN      NaN      NaN       NaN   \n",
       "        2                    NaN       NaN      NaN      NaN       NaN   \n",
       "        31                   NaN       NaN      NaN      NaN       NaN   \n",
       "        32                   NaN       NaN      NaN      NaN       NaN   \n",
       "3       5                    NaN       NaN  0.92549  0.92549  0.976471   \n",
       "        12                   NaN       NaN      NaN      NaN       NaN   \n",
       "        13                   NaN       NaN      NaN      NaN       NaN   \n",
       "        14                   NaN       NaN      NaN      NaN       NaN   \n",
       "\n",
       "Frame No.                   552       554                                \n",
       "Joint                         7         1         2         3         4  \n",
       "Gesture Sub folder No.                                                   \n",
       "1       12                  NaN       NaN       NaN       NaN       NaN  \n",
       "        15                  NaN       NaN       NaN       NaN       NaN  \n",
       "        24                  NaN       NaN       NaN       NaN       NaN  \n",
       "        27                  NaN       NaN       NaN       NaN       NaN  \n",
       "        28                  NaN       NaN       NaN       NaN       NaN  \n",
       "        32                  NaN       NaN       NaN       NaN       NaN  \n",
       "2       1                   NaN       NaN       NaN       NaN       NaN  \n",
       "        2                   NaN       NaN       NaN       NaN       NaN  \n",
       "        31                  NaN       NaN       NaN       NaN       NaN  \n",
       "        32                  NaN       NaN       NaN       NaN       NaN  \n",
       "3       5               0.92549  0.929412  0.929412  0.929412  0.929412  \n",
       "        12                  NaN       NaN       NaN       NaN       NaN  \n",
       "        13                  NaN       NaN       NaN       NaN       NaN  \n",
       "        14                  NaN       NaN       NaN       NaN       NaN  \n",
       "\n",
       "[14 rows x 53 columns]"
      ]
     },
     "execution_count": 76,
     "metadata": {},
     "output_type": "execute_result"
    }
   ],
   "source": [
    "keypoints_1_7_frame_cleaned[keypoints_1_7_frame_cleaned['Probability']==0].pivot_table(index = ['Frame No.', 'Joint'], columns = ['Gesture', 'Sub folder No.'], values='Depth').swapaxes(axis1=0, axis2=1)"
   ]
  },
  {
   "cell_type": "markdown",
   "metadata": {},
   "source": [
    "#### When Probability == 0, it means that the keypoint is occluded. To estimate the depth value, we use Moving Average Smoothing: get average of depth data at t-1 and t+1"
   ]
  },
  {
   "cell_type": "code",
   "execution_count": 77,
   "metadata": {},
   "outputs": [
    {
     "data": {
      "text/html": [
       "<div>\n",
       "<style scoped>\n",
       "    .dataframe tbody tr th:only-of-type {\n",
       "        vertical-align: middle;\n",
       "    }\n",
       "\n",
       "    .dataframe tbody tr th {\n",
       "        vertical-align: top;\n",
       "    }\n",
       "\n",
       "    .dataframe thead th {\n",
       "        text-align: right;\n",
       "    }\n",
       "</style>\n",
       "<table border=\"1\" class=\"dataframe\">\n",
       "  <thead>\n",
       "    <tr style=\"text-align: right;\">\n",
       "      <th></th>\n",
       "      <th>Gesture</th>\n",
       "      <th>Sub folder No.</th>\n",
       "      <th>Frame No.</th>\n",
       "      <th>Person</th>\n",
       "      <th>Joint</th>\n",
       "      <th>X</th>\n",
       "      <th>Y</th>\n",
       "      <th>Probability</th>\n",
       "      <th>Depth</th>\n",
       "      <th>X_cleaned</th>\n",
       "      <th>Y_cleaned</th>\n",
       "      <th>Depth_cleaned</th>\n",
       "    </tr>\n",
       "  </thead>\n",
       "  <tbody>\n",
       "    <tr>\n",
       "      <th>13504</th>\n",
       "      <td>1</td>\n",
       "      <td>12</td>\n",
       "      <td>34</td>\n",
       "      <td>0</td>\n",
       "      <td>4</td>\n",
       "      <td>0.0</td>\n",
       "      <td>0.0</td>\n",
       "      <td>0.0</td>\n",
       "      <td>0.039216</td>\n",
       "      <td>428.795566</td>\n",
       "      <td>193.354531</td>\n",
       "      <td>0.300000</td>\n",
       "    </tr>\n",
       "    <tr>\n",
       "      <th>16331</th>\n",
       "      <td>1</td>\n",
       "      <td>15</td>\n",
       "      <td>29</td>\n",
       "      <td>0</td>\n",
       "      <td>6</td>\n",
       "      <td>0.0</td>\n",
       "      <td>0.0</td>\n",
       "      <td>0.0</td>\n",
       "      <td>0.917647</td>\n",
       "      <td>617.835623</td>\n",
       "      <td>193.691148</td>\n",
       "      <td>0.025490</td>\n",
       "    </tr>\n",
       "    <tr>\n",
       "      <th>16332</th>\n",
       "      <td>1</td>\n",
       "      <td>15</td>\n",
       "      <td>29</td>\n",
       "      <td>0</td>\n",
       "      <td>7</td>\n",
       "      <td>0.0</td>\n",
       "      <td>0.0</td>\n",
       "      <td>0.0</td>\n",
       "      <td>0.917647</td>\n",
       "      <td>550.622166</td>\n",
       "      <td>175.391640</td>\n",
       "      <td>0.066667</td>\n",
       "    </tr>\n",
       "    <tr>\n",
       "      <th>16581</th>\n",
       "      <td>1</td>\n",
       "      <td>15</td>\n",
       "      <td>39</td>\n",
       "      <td>0</td>\n",
       "      <td>6</td>\n",
       "      <td>0.0</td>\n",
       "      <td>0.0</td>\n",
       "      <td>0.0</td>\n",
       "      <td>0.925490</td>\n",
       "      <td>611.923678</td>\n",
       "      <td>193.682379</td>\n",
       "      <td>0.031373</td>\n",
       "    </tr>\n",
       "    <tr>\n",
       "      <th>16582</th>\n",
       "      <td>1</td>\n",
       "      <td>15</td>\n",
       "      <td>39</td>\n",
       "      <td>0</td>\n",
       "      <td>7</td>\n",
       "      <td>0.0</td>\n",
       "      <td>0.0</td>\n",
       "      <td>0.0</td>\n",
       "      <td>0.925490</td>\n",
       "      <td>544.732730</td>\n",
       "      <td>181.237718</td>\n",
       "      <td>0.068627</td>\n",
       "    </tr>\n",
       "  </tbody>\n",
       "</table>\n",
       "</div>"
      ],
      "text/plain": [
       "       Gesture  Sub folder No.  Frame No.  Person  Joint    X    Y  \\\n",
       "13504        1              12         34       0      4  0.0  0.0   \n",
       "16331        1              15         29       0      6  0.0  0.0   \n",
       "16332        1              15         29       0      7  0.0  0.0   \n",
       "16581        1              15         39       0      6  0.0  0.0   \n",
       "16582        1              15         39       0      7  0.0  0.0   \n",
       "\n",
       "       Probability     Depth   X_cleaned   Y_cleaned  Depth_cleaned  \n",
       "13504          0.0  0.039216  428.795566  193.354531       0.300000  \n",
       "16331          0.0  0.917647  617.835623  193.691148       0.025490  \n",
       "16332          0.0  0.917647  550.622166  175.391640       0.066667  \n",
       "16581          0.0  0.925490  611.923678  193.682379       0.031373  \n",
       "16582          0.0  0.925490  544.732730  181.237718       0.068627  "
      ]
     },
     "execution_count": 77,
     "metadata": {},
     "output_type": "execute_result"
    }
   ],
   "source": [
    "df = pd.concat([keypoints_1_7_frame_cleaned, keypoints_1_7_frame_cleaned.shift(7)['Depth'].rename('Depth(t-1)'), keypoints_1_7_frame_cleaned.shift(-7)['Depth'].rename('Depth(t+1)')], axis=1)\n",
    "Depth_cleaned = df[['Probability', 'Depth', 'Depth(t-1)', 'Depth(t+1)']].apply(lambda x: np.mean((x[2], x[3])) if x[0]==0 else x[1], axis=1)\n",
    "keypoints_1_7_frame_cleaned['Depth_cleaned'] = Depth_cleaned\n",
    "keypoints_1_7_frame_cleaned[keypoints_1_7_frame_cleaned['Probability']==0].head()"
   ]
  },
  {
   "cell_type": "markdown",
   "metadata": {},
   "source": [
    "#### Now check the depth data of Joint 3 in all frames, we can see abnormal depth values (noise)"
   ]
  },
  {
   "cell_type": "code",
   "execution_count": 101,
   "metadata": {
    "scrolled": false
   },
   "outputs": [
    {
     "data": {
      "application/vnd.jupyter.widget-view+json": {
       "model_id": "f89b45b43daa4636bc5da98f11a7984e",
       "version_major": 2,
       "version_minor": 0
      },
      "text/plain": [
       "Canvas(toolbar=Toolbar(toolitems=[('Home', 'Reset original view', 'home', 'home'), ('Back', 'Back to previous …"
      ]
     },
     "metadata": {},
     "output_type": "display_data"
    },
    {
     "data": {
      "text/plain": [
       "<matplotlib.axes._subplots.AxesSubplot at 0x149f2a3d550>"
      ]
     },
     "execution_count": 101,
     "metadata": {},
     "output_type": "execute_result"
    }
   ],
   "source": [
    "keypoints_1_7_frame_cleaned[keypoints_1_7_frame_cleaned['Joint']==1].pivot_table(index = 'Frame No.', columns = ['Gesture', 'Sub folder No.'], values='Depth_cleaned').plot.line(alpha=0.5)"
   ]
  },
  {
   "cell_type": "markdown",
   "metadata": {},
   "source": [
    "#### Let's see the distribution of the difference of each frame's depth comparing to the median depth of each Joint"
   ]
  },
  {
   "cell_type": "code",
   "execution_count": null,
   "metadata": {
    "scrolled": false
   },
   "outputs": [
    {
     "data": {
      "application/vnd.jupyter.widget-view+json": {
       "model_id": "0a775bcea63b4d299acc486218b24275",
       "version_major": 2,
       "version_minor": 0
      },
      "text/plain": [
       "Canvas(toolbar=Toolbar(toolitems=[('Home', 'Reset original view', 'home', 'home'), ('Back', 'Back to previous …"
      ]
     },
     "metadata": {},
     "output_type": "display_data"
    }
   ],
   "source": [
    "Depth_median = keypoints_1_7_frame_cleaned.pivot_table(index = ['Gesture', 'Sub folder No.', 'Joint'], values = 'Depth_cleaned', aggfunc = lambda x: np.median(x)).rename(columns={'Depth_cleaned':'Depth_median'})\n",
    "df = keypoints_1_7_frame_cleaned.join(Depth_median, on=['Gesture', 'Sub folder No.', 'Joint'])\n",
    "df['Depth_cleaned - Depth_median'] = df['Depth_cleaned'] - df['Depth_median']\n",
    "df.pivot_table(index = ['Sub folder No.', 'Frame No.'], columns = ['Gesture', 'Joint'], values = 'Depth_cleaned - Depth_median').plot.hist(bins=200, alpha=0.5)"
   ]
  },
  {
   "cell_type": "code",
   "execution_count": 97,
   "metadata": {},
   "outputs": [],
   "source": [
    "depth_percentile_left = df.pivot_table(index = ['Gesture', 'Joint'], values = 'Depth_cleaned - Depth_median', aggfunc = lambda x: x.quantile(0.02)).rename(columns={'Depth_cleaned - Depth_median':'Depth_confidence_interval_left'})\n",
    "depth_percentile_right = df.pivot_table(index = ['Gesture', 'Joint'], values = 'Depth_cleaned - Depth_median', aggfunc = lambda x: x.quantile(0.98)).rename(columns={'Depth_cleaned - Depth_median':'Depth_confidence_interval_right'})"
   ]
  },
  {
   "cell_type": "code",
   "execution_count": 100,
   "metadata": {
    "scrolled": false
   },
   "outputs": [
    {
     "data": {
      "text/html": [
       "<div>\n",
       "<style scoped>\n",
       "    .dataframe tbody tr th:only-of-type {\n",
       "        vertical-align: middle;\n",
       "    }\n",
       "\n",
       "    .dataframe tbody tr th {\n",
       "        vertical-align: top;\n",
       "    }\n",
       "\n",
       "    .dataframe thead th {\n",
       "        text-align: right;\n",
       "    }\n",
       "</style>\n",
       "<table border=\"1\" class=\"dataframe\">\n",
       "  <thead>\n",
       "    <tr style=\"text-align: right;\">\n",
       "      <th></th>\n",
       "      <th>Gesture</th>\n",
       "      <th>Sub folder No.</th>\n",
       "      <th>Frame No.</th>\n",
       "      <th>Person</th>\n",
       "      <th>Joint</th>\n",
       "      <th>X</th>\n",
       "      <th>Y</th>\n",
       "      <th>Probability</th>\n",
       "      <th>Depth</th>\n",
       "      <th>X_cleaned</th>\n",
       "      <th>Y_cleaned</th>\n",
       "      <th>Depth_cleaned</th>\n",
       "      <th>Depth_median</th>\n",
       "      <th>Depth_cleaned - Depth_median</th>\n",
       "      <th>Depth_confidence_interval_left</th>\n",
       "      <th>Depth_confidence_interval_right</th>\n",
       "    </tr>\n",
       "  </thead>\n",
       "  <tbody>\n",
       "    <tr>\n",
       "      <th>4926</th>\n",
       "      <td>1</td>\n",
       "      <td>4</td>\n",
       "      <td>1</td>\n",
       "      <td>0</td>\n",
       "      <td>1</td>\n",
       "      <td>599.539856</td>\n",
       "      <td>117.944977</td>\n",
       "      <td>0.606791</td>\n",
       "      <td>0.341176</td>\n",
       "      <td>599.539856</td>\n",
       "      <td>117.944977</td>\n",
       "      <td>0.341176</td>\n",
       "      <td>0.384314</td>\n",
       "      <td>-0.043137</td>\n",
       "      <td>-0.142196</td>\n",
       "      <td>0.047059</td>\n",
       "    </tr>\n",
       "    <tr>\n",
       "      <th>4927</th>\n",
       "      <td>1</td>\n",
       "      <td>4</td>\n",
       "      <td>1</td>\n",
       "      <td>0</td>\n",
       "      <td>2</td>\n",
       "      <td>585.228027</td>\n",
       "      <td>110.167336</td>\n",
       "      <td>0.484397</td>\n",
       "      <td>0.501961</td>\n",
       "      <td>585.228027</td>\n",
       "      <td>110.167336</td>\n",
       "      <td>0.501961</td>\n",
       "      <td>0.496078</td>\n",
       "      <td>0.005882</td>\n",
       "      <td>-0.205961</td>\n",
       "      <td>0.068706</td>\n",
       "    </tr>\n",
       "    <tr>\n",
       "      <th>4928</th>\n",
       "      <td>1</td>\n",
       "      <td>4</td>\n",
       "      <td>1</td>\n",
       "      <td>0</td>\n",
       "      <td>3</td>\n",
       "      <td>530.401123</td>\n",
       "      <td>174.084900</td>\n",
       "      <td>0.800581</td>\n",
       "      <td>0.733333</td>\n",
       "      <td>530.401123</td>\n",
       "      <td>174.084900</td>\n",
       "      <td>0.733333</td>\n",
       "      <td>0.707843</td>\n",
       "      <td>0.025490</td>\n",
       "      <td>-0.174510</td>\n",
       "      <td>0.127529</td>\n",
       "    </tr>\n",
       "    <tr>\n",
       "      <th>4929</th>\n",
       "      <td>1</td>\n",
       "      <td>4</td>\n",
       "      <td>1</td>\n",
       "      <td>0</td>\n",
       "      <td>4</td>\n",
       "      <td>527.758240</td>\n",
       "      <td>129.748550</td>\n",
       "      <td>0.760209</td>\n",
       "      <td>0.705882</td>\n",
       "      <td>527.758240</td>\n",
       "      <td>129.748550</td>\n",
       "      <td>0.705882</td>\n",
       "      <td>0.635294</td>\n",
       "      <td>0.070588</td>\n",
       "      <td>-0.130431</td>\n",
       "      <td>0.157882</td>\n",
       "    </tr>\n",
       "    <tr>\n",
       "      <th>4930</th>\n",
       "      <td>1</td>\n",
       "      <td>4</td>\n",
       "      <td>1</td>\n",
       "      <td>0</td>\n",
       "      <td>5</td>\n",
       "      <td>610.026001</td>\n",
       "      <td>121.889938</td>\n",
       "      <td>0.664449</td>\n",
       "      <td>0.333333</td>\n",
       "      <td>610.026001</td>\n",
       "      <td>121.889938</td>\n",
       "      <td>0.333333</td>\n",
       "      <td>0.325490</td>\n",
       "      <td>0.007843</td>\n",
       "      <td>-0.123529</td>\n",
       "      <td>0.049020</td>\n",
       "    </tr>\n",
       "  </tbody>\n",
       "</table>\n",
       "</div>"
      ],
      "text/plain": [
       "      Gesture  Sub folder No.  Frame No.  Person  Joint           X  \\\n",
       "4926        1               4          1       0      1  599.539856   \n",
       "4927        1               4          1       0      2  585.228027   \n",
       "4928        1               4          1       0      3  530.401123   \n",
       "4929        1               4          1       0      4  527.758240   \n",
       "4930        1               4          1       0      5  610.026001   \n",
       "\n",
       "               Y  Probability     Depth   X_cleaned   Y_cleaned  \\\n",
       "4926  117.944977     0.606791  0.341176  599.539856  117.944977   \n",
       "4927  110.167336     0.484397  0.501961  585.228027  110.167336   \n",
       "4928  174.084900     0.800581  0.733333  530.401123  174.084900   \n",
       "4929  129.748550     0.760209  0.705882  527.758240  129.748550   \n",
       "4930  121.889938     0.664449  0.333333  610.026001  121.889938   \n",
       "\n",
       "      Depth_cleaned  Depth_median  Depth_cleaned - Depth_median  \\\n",
       "4926       0.341176      0.384314                     -0.043137   \n",
       "4927       0.501961      0.496078                      0.005882   \n",
       "4928       0.733333      0.707843                      0.025490   \n",
       "4929       0.705882      0.635294                      0.070588   \n",
       "4930       0.333333      0.325490                      0.007843   \n",
       "\n",
       "      Depth_confidence_interval_left  Depth_confidence_interval_right  \n",
       "4926                       -0.142196                         0.047059  \n",
       "4927                       -0.205961                         0.068706  \n",
       "4928                       -0.174510                         0.127529  \n",
       "4929                       -0.130431                         0.157882  \n",
       "4930                       -0.123529                         0.049020  "
      ]
     },
     "execution_count": 100,
     "metadata": {},
     "output_type": "execute_result"
    }
   ],
   "source": [
    "df2 = df.join(depth_percentile_left, on=['Gesture', 'Joint'])\n",
    "df2 = df2.join(depth_percentile_right, on=['Gesture', 'Joint'])\n",
    "df2.head()"
   ]
  },
  {
   "cell_type": "code",
   "execution_count": null,
   "metadata": {},
   "outputs": [],
   "source": []
  }
 ],
 "metadata": {
  "kernelspec": {
   "display_name": "Python 3",
   "language": "python",
   "name": "python3"
  },
  "language_info": {
   "codemirror_mode": {
    "name": "ipython",
    "version": 3
   },
   "file_extension": ".py",
   "mimetype": "text/x-python",
   "name": "python",
   "nbconvert_exporter": "python",
   "pygments_lexer": "ipython3",
   "version": "3.7.3"
  },
  "pycharm": {
   "stem_cell": {
    "cell_type": "raw",
    "metadata": {
     "collapsed": false
    },
    "source": []
   }
  }
 },
 "nbformat": 4,
 "nbformat_minor": 1
}
