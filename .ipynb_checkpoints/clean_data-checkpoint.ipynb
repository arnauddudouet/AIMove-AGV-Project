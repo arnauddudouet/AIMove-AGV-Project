{
 "cells": [
  {
   "cell_type": "code",
   "execution_count": 2,
   "metadata": {
    "pycharm": {
     "is_executing": false
    }
   },
   "outputs": [],
   "source": [
    "import matplotlib.pyplot as plt\n",
    "# %matplotlib notebook\n",
    "%matplotlib ipympl\n",
    "import pandas as pd\n",
    "import numpy as np"
   ]
  },
  {
   "cell_type": "code",
   "execution_count": 3,
   "metadata": {
    "pycharm": {
     "is_executing": false,
     "name": "#%%\n"
    }
   },
   "outputs": [
    {
     "name": "stdout",
     "output_type": "stream",
     "text": [
      "keypoints_all shape (181375, 9)\n"
     ]
    },
    {
     "data": {
      "text/html": [
       "<div>\n",
       "<style scoped>\n",
       "    .dataframe tbody tr th:only-of-type {\n",
       "        vertical-align: middle;\n",
       "    }\n",
       "\n",
       "    .dataframe tbody tr th {\n",
       "        vertical-align: top;\n",
       "    }\n",
       "\n",
       "    .dataframe thead th {\n",
       "        text-align: right;\n",
       "    }\n",
       "</style>\n",
       "<table border=\"1\" class=\"dataframe\">\n",
       "  <thead>\n",
       "    <tr style=\"text-align: right;\">\n",
       "      <th></th>\n",
       "      <th>Gesture</th>\n",
       "      <th>Sub folder No.</th>\n",
       "      <th>Frame No.</th>\n",
       "      <th>Person</th>\n",
       "      <th>Joint</th>\n",
       "      <th>X</th>\n",
       "      <th>Y</th>\n",
       "      <th>Probability</th>\n",
       "      <th>Depth</th>\n",
       "    </tr>\n",
       "  </thead>\n",
       "  <tbody>\n",
       "    <tr>\n",
       "      <th>0</th>\n",
       "      <td>1</td>\n",
       "      <td>1</td>\n",
       "      <td>1</td>\n",
       "      <td>0</td>\n",
       "      <td>0</td>\n",
       "      <td>0.0</td>\n",
       "      <td>0.0</td>\n",
       "      <td>0.0</td>\n",
       "      <td>0.031373</td>\n",
       "    </tr>\n",
       "    <tr>\n",
       "      <th>1</th>\n",
       "      <td>1</td>\n",
       "      <td>1</td>\n",
       "      <td>1</td>\n",
       "      <td>0</td>\n",
       "      <td>1</td>\n",
       "      <td>0.0</td>\n",
       "      <td>0.0</td>\n",
       "      <td>0.0</td>\n",
       "      <td>0.031373</td>\n",
       "    </tr>\n",
       "    <tr>\n",
       "      <th>2</th>\n",
       "      <td>1</td>\n",
       "      <td>1</td>\n",
       "      <td>1</td>\n",
       "      <td>0</td>\n",
       "      <td>2</td>\n",
       "      <td>0.0</td>\n",
       "      <td>0.0</td>\n",
       "      <td>0.0</td>\n",
       "      <td>0.031373</td>\n",
       "    </tr>\n",
       "    <tr>\n",
       "      <th>3</th>\n",
       "      <td>1</td>\n",
       "      <td>1</td>\n",
       "      <td>1</td>\n",
       "      <td>0</td>\n",
       "      <td>3</td>\n",
       "      <td>0.0</td>\n",
       "      <td>0.0</td>\n",
       "      <td>0.0</td>\n",
       "      <td>0.031373</td>\n",
       "    </tr>\n",
       "    <tr>\n",
       "      <th>4</th>\n",
       "      <td>1</td>\n",
       "      <td>1</td>\n",
       "      <td>1</td>\n",
       "      <td>0</td>\n",
       "      <td>4</td>\n",
       "      <td>0.0</td>\n",
       "      <td>0.0</td>\n",
       "      <td>0.0</td>\n",
       "      <td>0.031373</td>\n",
       "    </tr>\n",
       "  </tbody>\n",
       "</table>\n",
       "</div>"
      ],
      "text/plain": [
       "   Gesture  Sub folder No.  Frame No.  Person  Joint    X    Y  Probability  \\\n",
       "0        1               1          1       0      0  0.0  0.0          0.0   \n",
       "1        1               1          1       0      1  0.0  0.0          0.0   \n",
       "2        1               1          1       0      2  0.0  0.0          0.0   \n",
       "3        1               1          1       0      3  0.0  0.0          0.0   \n",
       "4        1               1          1       0      4  0.0  0.0          0.0   \n",
       "\n",
       "      Depth  \n",
       "0  0.031373  \n",
       "1  0.031373  \n",
       "2  0.031373  \n",
       "3  0.031373  \n",
       "4  0.031373  "
      ]
     },
     "execution_count": 3,
     "metadata": {},
     "output_type": "execute_result"
    }
   ],
   "source": [
    "keypoints_all = pd.read_json('./Keypoints_All.json', orient='records')\n",
    "new_columns = ['Gesture', 'Sub folder No.', 'Frame No.', 'Person', 'Joint', 'X', 'Y', 'Probability', 'Depth']\n",
    "keypoints_all = keypoints_all.reindex(columns = new_columns)\n",
    "print('keypoints_all shape', keypoints_all.shape)\n",
    "keypoints_all.head()"
   ]
  },
  {
   "cell_type": "code",
   "execution_count": 4,
   "metadata": {
    "pycharm": {
     "is_executing": false,
     "name": "#%%\n"
    }
   },
   "outputs": [
    {
     "name": "stdout",
     "output_type": "stream",
     "text": [
      "keypoints_1_7 shape (50785, 9)\n"
     ]
    }
   ],
   "source": [
    "keypoints_1_7 = keypoints_all[keypoints_all['Joint'].isin(range(1,8))]\n",
    "print('keypoints_1_7 shape', keypoints_1_7.shape)"
   ]
  },
  {
   "cell_type": "code",
   "execution_count": 5,
   "metadata": {},
   "outputs": [
    {
     "data": {
      "application/vnd.jupyter.widget-view+json": {
       "model_id": "a60b05b141b749e7aec7abe1d5b65549",
       "version_major": 2,
       "version_minor": 0
      },
      "text/plain": [
       "Canvas(toolbar=Toolbar(toolitems=[('Home', 'Reset original view', 'home', 'home'), ('Back', 'Back to previous …"
      ]
     },
     "metadata": {},
     "output_type": "display_data"
    },
    {
     "data": {
      "text/plain": [
       "<matplotlib.axes._subplots.AxesSubplot at 0x16da5e6deb8>"
      ]
     },
     "execution_count": 5,
     "metadata": {},
     "output_type": "execute_result"
    }
   ],
   "source": [
    "fig, axes = plt.subplots(2,1, sharex=True)\n",
    "pd.pivot_table(keypoints_1_7, index=['Gesture', 'Sub folder No.'], values='Probability', aggfunc='mean').plot(kind='bar', ax=axes[0], title='Average of all keypoints\\' Probability per folder', legend=False, alpha=0.5)\n",
    "pd.pivot_table(keypoints_1_7, index=['Gesture', 'Sub folder No.'], values='Probability', aggfunc='var').plot(kind='bar', ax=axes[1], title='Variance of all keypoints\\' Probability per folder', legend=False, alpha=0.5)"
   ]
  },
  {
   "cell_type": "code",
   "execution_count": 6,
   "metadata": {
    "pycharm": {
     "is_executing": false,
     "name": "#%%\n"
    },
    "scrolled": false
   },
   "outputs": [
    {
     "data": {
      "application/vnd.jupyter.widget-view+json": {
       "model_id": "0e202c1b2145418fa31872185d83c77c",
       "version_major": 2,
       "version_minor": 0
      },
      "text/plain": [
       "Canvas(toolbar=Toolbar(toolitems=[('Home', 'Reset original view', 'home', 'home'), ('Back', 'Back to previous …"
      ]
     },
     "metadata": {},
     "output_type": "display_data"
    },
    {
     "data": {
      "text/plain": [
       "<matplotlib.axes._subplots.AxesSubplot at 0x16da61366a0>"
      ]
     },
     "execution_count": 6,
     "metadata": {},
     "output_type": "execute_result"
    }
   ],
   "source": [
    "fig = plt.figure()\n",
    "keypoints_1_7['Probability'].plot.hist(bins=100, title='Distribution of \\\"Probability\\\" in OpenPose output', alpha=0.5)"
   ]
  },
  {
   "cell_type": "code",
   "execution_count": 7,
   "metadata": {},
   "outputs": [
    {
     "name": "stdout",
     "output_type": "stream",
     "text": [
      "0.5051861882400001\n"
     ]
    }
   ],
   "source": [
    "prob_threshold = keypoints_1_7['Probability'].quantile(0.05)\n",
    "print(prob_threshold)"
   ]
  },
  {
   "cell_type": "code",
   "execution_count": 8,
   "metadata": {},
   "outputs": [
    {
     "data": {
      "application/vnd.jupyter.widget-view+json": {
       "model_id": "cc7f54d09cf14816a823c49c90fcb70b",
       "version_major": 2,
       "version_minor": 0
      },
      "text/plain": [
       "Canvas(toolbar=Toolbar(toolitems=[('Home', 'Reset original view', 'home', 'home'), ('Back', 'Back to previous …"
      ]
     },
     "metadata": {},
     "output_type": "display_data"
    },
    {
     "data": {
      "text/plain": [
       "<matplotlib.axes._subplots.AxesSubplot at 0x16da628ddd8>"
      ]
     },
     "execution_count": 8,
     "metadata": {},
     "output_type": "execute_result"
    }
   ],
   "source": [
    "keypoints_1_7_folder_prob_threshold_percent = keypoints_1_7.pivot_table(index = ['Gesture', 'Sub folder No.'], values='Probability', aggfunc = lambda x:np.count_nonzero(x<prob_threshold)/len(x)*100)\n",
    "keypoints_1_7_folder_prob_threshold_percent.plot.bar(title='Before folder filter, Percentage of \\\"low probability keypoints\\\" per folder', legend=False, alpha=0.5)"
   ]
  },
  {
   "cell_type": "code",
   "execution_count": 9,
   "metadata": {
    "scrolled": true
   },
   "outputs": [
    {
     "name": "stdout",
     "output_type": "stream",
     "text": [
      "keypoints_1_7_filtered shape (42819, 9)\n"
     ]
    }
   ],
   "source": [
    "low_prob_keypoints_percentage_threshold = 10\n",
    "keypoints_1_7_folder_filtered_index = keypoints_1_7_folder_prob_threshold_percent[keypoints_1_7_folder_prob_threshold_percent['Probability'] < low_prob_keypoints_percentage_threshold].index.tolist()\n",
    "keypoints_1_7_folder_filtered = keypoints_1_7[keypoints_1_7[['Gesture','Sub folder No.']].apply(lambda x:(x[0],x[1]) in keypoints_1_7_folder_filtered_index, axis=1)]\n",
    "\n",
    "print('keypoints_1_7_filtered shape', keypoints_1_7_folder_filtered.shape)"
   ]
  },
  {
   "cell_type": "code",
   "execution_count": 10,
   "metadata": {},
   "outputs": [
    {
     "data": {
      "application/vnd.jupyter.widget-view+json": {
       "model_id": "87f9dc448fe74e12a8e9868f87b4ee6f",
       "version_major": 2,
       "version_minor": 0
      },
      "text/plain": [
       "Canvas(toolbar=Toolbar(toolitems=[('Home', 'Reset original view', 'home', 'home'), ('Back', 'Back to previous …"
      ]
     },
     "metadata": {},
     "output_type": "display_data"
    }
   ],
   "source": [
    "keypoints_1_7_folder_filtered.pivot_table(index = ['Gesture', 'Sub folder No.'], values='Probability', aggfunc = lambda x:np.count_nonzero(x<prob_threshold)/len(x)*100).plot.bar(title='After folder filter, Percentage of \\\"low probability keypoint\\\" per folder', legend=False, color='green', alpha=0.5)\n",
    "plt.show()"
   ]
  },
  {
   "cell_type": "code",
   "execution_count": 11,
   "metadata": {
    "pycharm": {
     "is_executing": false,
     "name": "#%%\n"
    },
    "scrolled": false
   },
   "outputs": [
    {
     "data": {
      "application/vnd.jupyter.widget-view+json": {
       "model_id": "d5a2e11452f7426fbe258a413007de4e",
       "version_major": 2,
       "version_minor": 0
      },
      "text/plain": [
       "Canvas(toolbar=Toolbar(toolitems=[('Home', 'Reset original view', 'home', 'home'), ('Back', 'Back to previous …"
      ]
     },
     "metadata": {},
     "output_type": "display_data"
    },
    {
     "data": {
      "text/plain": [
       "<matplotlib.axes._subplots.AxesSubplot at 0x16da6864c88>"
      ]
     },
     "execution_count": 11,
     "metadata": {},
     "output_type": "execute_result"
    }
   ],
   "source": [
    "fig, axes = plt.subplots(2,1, sharex=True)\n",
    "pd.pivot_table(keypoints_1_7_folder_filtered, index=['Gesture', 'Sub folder No.'], values='Probability', aggfunc='mean').plot(kind='bar', ax=axes[0], title='Average of all keypoints\\' Probability per folder', legend=False, color='g', alpha=0.5)\n",
    "pd.pivot_table(keypoints_1_7_folder_filtered, index=['Gesture', 'Sub folder No.'], values='Probability', aggfunc='var').plot(kind='bar', ax=axes[1], title='Variance of all keypoints\\' Probability per folder', legend=False, color='g', alpha=0.5)"
   ]
  },
  {
   "cell_type": "code",
   "execution_count": 22,
   "metadata": {},
   "outputs": [
    {
     "data": {
      "application/vnd.jupyter.widget-view+json": {
       "model_id": "8fe153a6a1ba47aeb409b78c5817c264",
       "version_major": 2,
       "version_minor": 0
      },
      "text/plain": [
       "Canvas(toolbar=Toolbar(toolitems=[('Home', 'Reset original view', 'home', 'home'), ('Back', 'Back to previous …"
      ]
     },
     "metadata": {},
     "output_type": "display_data"
    },
    {
     "data": {
      "text/plain": [
       "<matplotlib.axes._subplots.AxesSubplot at 0x16dabef7198>"
      ]
     },
     "execution_count": 22,
     "metadata": {},
     "output_type": "execute_result"
    }
   ],
   "source": [
    "keypoints_1_7_folder_filtered[keypoints_1_7_folder_filtered['Joint']==3].pivot_table(index = 'Frame No.', columns = ['Gesture', 'Sub folder No.'], values='X').plot.line()"
   ]
  },
  {
   "cell_type": "code",
   "execution_count": 12,
   "metadata": {
    "scrolled": false
   },
   "outputs": [
    {
     "data": {
      "text/html": [
       "<div>\n",
       "<style scoped>\n",
       "    .dataframe tbody tr th:only-of-type {\n",
       "        vertical-align: middle;\n",
       "    }\n",
       "\n",
       "    .dataframe tbody tr th {\n",
       "        vertical-align: top;\n",
       "    }\n",
       "\n",
       "    .dataframe thead th {\n",
       "        text-align: right;\n",
       "    }\n",
       "</style>\n",
       "<table border=\"1\" class=\"dataframe\">\n",
       "  <thead>\n",
       "    <tr style=\"text-align: right;\">\n",
       "      <th></th>\n",
       "      <th>Gesture</th>\n",
       "      <th>Sub folder No.</th>\n",
       "      <th>Frame No.</th>\n",
       "      <th>Person</th>\n",
       "      <th>Joint</th>\n",
       "      <th>X</th>\n",
       "      <th>Y</th>\n",
       "      <th>Probability</th>\n",
       "      <th>Depth</th>\n",
       "      <th>X(t-1)</th>\n",
       "      <th>Y(t-1)</th>\n",
       "      <th>Probability(t-1)</th>\n",
       "      <th>X(t+1)</th>\n",
       "      <th>Y(t+1)</th>\n",
       "      <th>Probability(t+1)</th>\n",
       "    </tr>\n",
       "  </thead>\n",
       "  <tbody>\n",
       "    <tr>\n",
       "      <th>4926</th>\n",
       "      <td>1</td>\n",
       "      <td>4</td>\n",
       "      <td>1</td>\n",
       "      <td>0</td>\n",
       "      <td>1</td>\n",
       "      <td>599.539856</td>\n",
       "      <td>117.944977</td>\n",
       "      <td>0.606791</td>\n",
       "      <td>0.341176</td>\n",
       "      <td>NaN</td>\n",
       "      <td>NaN</td>\n",
       "      <td>NaN</td>\n",
       "      <td>538.226440</td>\n",
       "      <td>120.586067</td>\n",
       "      <td>0.831424</td>\n",
       "    </tr>\n",
       "    <tr>\n",
       "      <th>4927</th>\n",
       "      <td>1</td>\n",
       "      <td>4</td>\n",
       "      <td>1</td>\n",
       "      <td>0</td>\n",
       "      <td>2</td>\n",
       "      <td>585.228027</td>\n",
       "      <td>110.167336</td>\n",
       "      <td>0.484397</td>\n",
       "      <td>0.501961</td>\n",
       "      <td>NaN</td>\n",
       "      <td>NaN</td>\n",
       "      <td>NaN</td>\n",
       "      <td>497.787415</td>\n",
       "      <td>130.999329</td>\n",
       "      <td>0.744093</td>\n",
       "    </tr>\n",
       "    <tr>\n",
       "      <th>4928</th>\n",
       "      <td>1</td>\n",
       "      <td>4</td>\n",
       "      <td>1</td>\n",
       "      <td>0</td>\n",
       "      <td>3</td>\n",
       "      <td>530.401123</td>\n",
       "      <td>174.084900</td>\n",
       "      <td>0.800581</td>\n",
       "      <td>0.733333</td>\n",
       "      <td>NaN</td>\n",
       "      <td>NaN</td>\n",
       "      <td>NaN</td>\n",
       "      <td>474.329376</td>\n",
       "      <td>202.840897</td>\n",
       "      <td>0.887369</td>\n",
       "    </tr>\n",
       "    <tr>\n",
       "      <th>4929</th>\n",
       "      <td>1</td>\n",
       "      <td>4</td>\n",
       "      <td>1</td>\n",
       "      <td>0</td>\n",
       "      <td>4</td>\n",
       "      <td>527.758240</td>\n",
       "      <td>129.748550</td>\n",
       "      <td>0.760209</td>\n",
       "      <td>0.705882</td>\n",
       "      <td>NaN</td>\n",
       "      <td>NaN</td>\n",
       "      <td>NaN</td>\n",
       "      <td>433.882629</td>\n",
       "      <td>258.918304</td>\n",
       "      <td>0.834839</td>\n",
       "    </tr>\n",
       "    <tr>\n",
       "      <th>4930</th>\n",
       "      <td>1</td>\n",
       "      <td>4</td>\n",
       "      <td>1</td>\n",
       "      <td>0</td>\n",
       "      <td>5</td>\n",
       "      <td>610.026001</td>\n",
       "      <td>121.889938</td>\n",
       "      <td>0.664449</td>\n",
       "      <td>0.333333</td>\n",
       "      <td>NaN</td>\n",
       "      <td>NaN</td>\n",
       "      <td>NaN</td>\n",
       "      <td>577.405212</td>\n",
       "      <td>111.475510</td>\n",
       "      <td>0.703935</td>\n",
       "    </tr>\n",
       "    <tr>\n",
       "      <th>4931</th>\n",
       "      <td>1</td>\n",
       "      <td>4</td>\n",
       "      <td>1</td>\n",
       "      <td>0</td>\n",
       "      <td>6</td>\n",
       "      <td>569.547424</td>\n",
       "      <td>213.194748</td>\n",
       "      <td>0.837365</td>\n",
       "      <td>0.325490</td>\n",
       "      <td>NaN</td>\n",
       "      <td>NaN</td>\n",
       "      <td>NaN</td>\n",
       "      <td>611.282471</td>\n",
       "      <td>201.496506</td>\n",
       "      <td>0.811391</td>\n",
       "    </tr>\n",
       "    <tr>\n",
       "      <th>4932</th>\n",
       "      <td>1</td>\n",
       "      <td>4</td>\n",
       "      <td>1</td>\n",
       "      <td>0</td>\n",
       "      <td>7</td>\n",
       "      <td>486.079956</td>\n",
       "      <td>192.379120</td>\n",
       "      <td>0.828425</td>\n",
       "      <td>0.415686</td>\n",
       "      <td>NaN</td>\n",
       "      <td>NaN</td>\n",
       "      <td>NaN</td>\n",
       "      <td>547.374878</td>\n",
       "      <td>254.978317</td>\n",
       "      <td>0.840501</td>\n",
       "    </tr>\n",
       "    <tr>\n",
       "      <th>4951</th>\n",
       "      <td>1</td>\n",
       "      <td>4</td>\n",
       "      <td>2</td>\n",
       "      <td>0</td>\n",
       "      <td>1</td>\n",
       "      <td>538.226440</td>\n",
       "      <td>120.586067</td>\n",
       "      <td>0.831424</td>\n",
       "      <td>0.454902</td>\n",
       "      <td>599.539856</td>\n",
       "      <td>117.944977</td>\n",
       "      <td>0.606791</td>\n",
       "      <td>587.830200</td>\n",
       "      <td>108.876297</td>\n",
       "      <td>0.653654</td>\n",
       "    </tr>\n",
       "    <tr>\n",
       "      <th>4952</th>\n",
       "      <td>1</td>\n",
       "      <td>4</td>\n",
       "      <td>2</td>\n",
       "      <td>0</td>\n",
       "      <td>2</td>\n",
       "      <td>497.787415</td>\n",
       "      <td>130.999329</td>\n",
       "      <td>0.744093</td>\n",
       "      <td>0.635294</td>\n",
       "      <td>585.228027</td>\n",
       "      <td>110.167336</td>\n",
       "      <td>0.484397</td>\n",
       "      <td>568.263733</td>\n",
       "      <td>106.234604</td>\n",
       "      <td>0.543617</td>\n",
       "    </tr>\n",
       "    <tr>\n",
       "      <th>4953</th>\n",
       "      <td>1</td>\n",
       "      <td>4</td>\n",
       "      <td>2</td>\n",
       "      <td>0</td>\n",
       "      <td>3</td>\n",
       "      <td>474.329376</td>\n",
       "      <td>202.840897</td>\n",
       "      <td>0.887369</td>\n",
       "      <td>0.627451</td>\n",
       "      <td>530.401123</td>\n",
       "      <td>174.084900</td>\n",
       "      <td>0.800581</td>\n",
       "      <td>538.255554</td>\n",
       "      <td>157.121521</td>\n",
       "      <td>0.425784</td>\n",
       "    </tr>\n",
       "    <tr>\n",
       "      <th>4954</th>\n",
       "      <td>1</td>\n",
       "      <td>4</td>\n",
       "      <td>2</td>\n",
       "      <td>0</td>\n",
       "      <td>4</td>\n",
       "      <td>433.882629</td>\n",
       "      <td>258.918304</td>\n",
       "      <td>0.834839</td>\n",
       "      <td>0.513725</td>\n",
       "      <td>527.758240</td>\n",
       "      <td>129.748550</td>\n",
       "      <td>0.760209</td>\n",
       "      <td>516.010681</td>\n",
       "      <td>174.123077</td>\n",
       "      <td>0.699642</td>\n",
       "    </tr>\n",
       "    <tr>\n",
       "      <th>4955</th>\n",
       "      <td>1</td>\n",
       "      <td>4</td>\n",
       "      <td>2</td>\n",
       "      <td>0</td>\n",
       "      <td>5</td>\n",
       "      <td>577.405212</td>\n",
       "      <td>111.475510</td>\n",
       "      <td>0.703935</td>\n",
       "      <td>0.333333</td>\n",
       "      <td>610.026001</td>\n",
       "      <td>121.889938</td>\n",
       "      <td>0.664449</td>\n",
       "      <td>604.814819</td>\n",
       "      <td>111.425262</td>\n",
       "      <td>0.614524</td>\n",
       "    </tr>\n",
       "    <tr>\n",
       "      <th>4956</th>\n",
       "      <td>1</td>\n",
       "      <td>4</td>\n",
       "      <td>2</td>\n",
       "      <td>0</td>\n",
       "      <td>6</td>\n",
       "      <td>611.282471</td>\n",
       "      <td>201.496506</td>\n",
       "      <td>0.811391</td>\n",
       "      <td>0.341176</td>\n",
       "      <td>569.547424</td>\n",
       "      <td>213.194748</td>\n",
       "      <td>0.837365</td>\n",
       "      <td>568.238586</td>\n",
       "      <td>193.727951</td>\n",
       "      <td>0.789927</td>\n",
       "    </tr>\n",
       "    <tr>\n",
       "      <th>4957</th>\n",
       "      <td>1</td>\n",
       "      <td>4</td>\n",
       "      <td>2</td>\n",
       "      <td>0</td>\n",
       "      <td>7</td>\n",
       "      <td>547.374878</td>\n",
       "      <td>254.978317</td>\n",
       "      <td>0.840501</td>\n",
       "      <td>0.392157</td>\n",
       "      <td>486.079956</td>\n",
       "      <td>192.379120</td>\n",
       "      <td>0.828425</td>\n",
       "      <td>482.087555</td>\n",
       "      <td>217.173309</td>\n",
       "      <td>0.738809</td>\n",
       "    </tr>\n",
       "  </tbody>\n",
       "</table>\n",
       "</div>"
      ],
      "text/plain": [
       "      Gesture  Sub folder No.  Frame No.  Person  Joint           X  \\\n",
       "4926        1               4          1       0      1  599.539856   \n",
       "4927        1               4          1       0      2  585.228027   \n",
       "4928        1               4          1       0      3  530.401123   \n",
       "4929        1               4          1       0      4  527.758240   \n",
       "4930        1               4          1       0      5  610.026001   \n",
       "4931        1               4          1       0      6  569.547424   \n",
       "4932        1               4          1       0      7  486.079956   \n",
       "4951        1               4          2       0      1  538.226440   \n",
       "4952        1               4          2       0      2  497.787415   \n",
       "4953        1               4          2       0      3  474.329376   \n",
       "4954        1               4          2       0      4  433.882629   \n",
       "4955        1               4          2       0      5  577.405212   \n",
       "4956        1               4          2       0      6  611.282471   \n",
       "4957        1               4          2       0      7  547.374878   \n",
       "\n",
       "               Y  Probability     Depth      X(t-1)      Y(t-1)  \\\n",
       "4926  117.944977     0.606791  0.341176         NaN         NaN   \n",
       "4927  110.167336     0.484397  0.501961         NaN         NaN   \n",
       "4928  174.084900     0.800581  0.733333         NaN         NaN   \n",
       "4929  129.748550     0.760209  0.705882         NaN         NaN   \n",
       "4930  121.889938     0.664449  0.333333         NaN         NaN   \n",
       "4931  213.194748     0.837365  0.325490         NaN         NaN   \n",
       "4932  192.379120     0.828425  0.415686         NaN         NaN   \n",
       "4951  120.586067     0.831424  0.454902  599.539856  117.944977   \n",
       "4952  130.999329     0.744093  0.635294  585.228027  110.167336   \n",
       "4953  202.840897     0.887369  0.627451  530.401123  174.084900   \n",
       "4954  258.918304     0.834839  0.513725  527.758240  129.748550   \n",
       "4955  111.475510     0.703935  0.333333  610.026001  121.889938   \n",
       "4956  201.496506     0.811391  0.341176  569.547424  213.194748   \n",
       "4957  254.978317     0.840501  0.392157  486.079956  192.379120   \n",
       "\n",
       "      Probability(t-1)      X(t+1)      Y(t+1)  Probability(t+1)  \n",
       "4926               NaN  538.226440  120.586067          0.831424  \n",
       "4927               NaN  497.787415  130.999329          0.744093  \n",
       "4928               NaN  474.329376  202.840897          0.887369  \n",
       "4929               NaN  433.882629  258.918304          0.834839  \n",
       "4930               NaN  577.405212  111.475510          0.703935  \n",
       "4931               NaN  611.282471  201.496506          0.811391  \n",
       "4932               NaN  547.374878  254.978317          0.840501  \n",
       "4951          0.606791  587.830200  108.876297          0.653654  \n",
       "4952          0.484397  568.263733  106.234604          0.543617  \n",
       "4953          0.800581  538.255554  157.121521          0.425784  \n",
       "4954          0.760209  516.010681  174.123077          0.699642  \n",
       "4955          0.664449  604.814819  111.425262          0.614524  \n",
       "4956          0.837365  568.238586  193.727951          0.789927  \n",
       "4957          0.828425  482.087555  217.173309          0.738809  "
      ]
     },
     "execution_count": 12,
     "metadata": {},
     "output_type": "execute_result"
    }
   ],
   "source": [
    "df = pd.concat([keypoints_1_7_folder_filtered, keypoints_1_7_folder_filtered.shift(7)[['X', 'Y', 'Probability']].rename(columns={'X':'X(t-1)', 'Y':'Y(t-1)', 'Probability':'Probability(t-1)'}), keypoints_1_7_folder_filtered.shift(-7)[['X', 'Y', 'Probability']].rename(columns={'X':'X(t+1)', 'Y':'Y(t+1)', 'Probability':'Probability(t+1)'})], axis=1)\n",
    "df.head(14)"
   ]
  },
  {
   "cell_type": "code",
   "execution_count": 13,
   "metadata": {},
   "outputs": [],
   "source": [
    "X_cleaned = df.apply(lambda row: [*row[0:5], (row['X']*row['Probability'] + row['X(t-1)']*row['Probability(t-1)'] + row['X(t+1)']*row['Probability(t+1)'])/(row['Probability']+row['Probability(t-1)']+row['Probability(t+1)']), *row[6:15]] if row['Probability']==0 else row, axis=1)\n",
    "Y_cleaned = df.apply(lambda row: [*row[0:6], (row['Y']*row['Probability'] + row['Y(t-1)']*row['Probability(t-1)'] + row['Y(t+1)']*row['Probability(t+1)'])/(row['Probability']+row['Probability(t-1)']+row['Probability(t+1)']), *row[7:15]] if row['Probability']==0 else row, axis=1)"
   ]
  },
  {
   "cell_type": "code",
   "execution_count": 14,
   "metadata": {},
   "outputs": [
    {
     "data": {
      "text/html": [
       "<div>\n",
       "<style scoped>\n",
       "    .dataframe tbody tr th:only-of-type {\n",
       "        vertical-align: middle;\n",
       "    }\n",
       "\n",
       "    .dataframe tbody tr th {\n",
       "        vertical-align: top;\n",
       "    }\n",
       "\n",
       "    .dataframe thead th {\n",
       "        text-align: right;\n",
       "    }\n",
       "</style>\n",
       "<table border=\"1\" class=\"dataframe\">\n",
       "  <thead>\n",
       "    <tr style=\"text-align: right;\">\n",
       "      <th></th>\n",
       "      <th>Gesture</th>\n",
       "      <th>Sub folder No.</th>\n",
       "      <th>Frame No.</th>\n",
       "      <th>Person</th>\n",
       "      <th>Joint</th>\n",
       "      <th>X</th>\n",
       "      <th>Y</th>\n",
       "      <th>Probability</th>\n",
       "      <th>Depth</th>\n",
       "      <th>X_cleaned</th>\n",
       "      <th>Y_cleaned</th>\n",
       "    </tr>\n",
       "  </thead>\n",
       "  <tbody>\n",
       "    <tr>\n",
       "      <th>13504</th>\n",
       "      <td>1</td>\n",
       "      <td>12</td>\n",
       "      <td>34</td>\n",
       "      <td>0</td>\n",
       "      <td>4</td>\n",
       "      <td>0.0</td>\n",
       "      <td>0.0</td>\n",
       "      <td>0.0</td>\n",
       "      <td>0.039216</td>\n",
       "      <td>428.795566</td>\n",
       "      <td>193.354531</td>\n",
       "    </tr>\n",
       "    <tr>\n",
       "      <th>16331</th>\n",
       "      <td>1</td>\n",
       "      <td>15</td>\n",
       "      <td>29</td>\n",
       "      <td>0</td>\n",
       "      <td>6</td>\n",
       "      <td>0.0</td>\n",
       "      <td>0.0</td>\n",
       "      <td>0.0</td>\n",
       "      <td>0.917647</td>\n",
       "      <td>617.835623</td>\n",
       "      <td>193.691148</td>\n",
       "    </tr>\n",
       "    <tr>\n",
       "      <th>16332</th>\n",
       "      <td>1</td>\n",
       "      <td>15</td>\n",
       "      <td>29</td>\n",
       "      <td>0</td>\n",
       "      <td>7</td>\n",
       "      <td>0.0</td>\n",
       "      <td>0.0</td>\n",
       "      <td>0.0</td>\n",
       "      <td>0.917647</td>\n",
       "      <td>550.622166</td>\n",
       "      <td>175.391640</td>\n",
       "    </tr>\n",
       "    <tr>\n",
       "      <th>16581</th>\n",
       "      <td>1</td>\n",
       "      <td>15</td>\n",
       "      <td>39</td>\n",
       "      <td>0</td>\n",
       "      <td>6</td>\n",
       "      <td>0.0</td>\n",
       "      <td>0.0</td>\n",
       "      <td>0.0</td>\n",
       "      <td>0.925490</td>\n",
       "      <td>611.923678</td>\n",
       "      <td>193.682379</td>\n",
       "    </tr>\n",
       "    <tr>\n",
       "      <th>16582</th>\n",
       "      <td>1</td>\n",
       "      <td>15</td>\n",
       "      <td>39</td>\n",
       "      <td>0</td>\n",
       "      <td>7</td>\n",
       "      <td>0.0</td>\n",
       "      <td>0.0</td>\n",
       "      <td>0.0</td>\n",
       "      <td>0.925490</td>\n",
       "      <td>544.732730</td>\n",
       "      <td>181.237718</td>\n",
       "    </tr>\n",
       "  </tbody>\n",
       "</table>\n",
       "</div>"
      ],
      "text/plain": [
       "       Gesture  Sub folder No.  Frame No.  Person  Joint    X    Y  \\\n",
       "13504        1              12         34       0      4  0.0  0.0   \n",
       "16331        1              15         29       0      6  0.0  0.0   \n",
       "16332        1              15         29       0      7  0.0  0.0   \n",
       "16581        1              15         39       0      6  0.0  0.0   \n",
       "16582        1              15         39       0      7  0.0  0.0   \n",
       "\n",
       "       Probability     Depth   X_cleaned   Y_cleaned  \n",
       "13504          0.0  0.039216  428.795566  193.354531  \n",
       "16331          0.0  0.917647  617.835623  193.691148  \n",
       "16332          0.0  0.917647  550.622166  175.391640  \n",
       "16581          0.0  0.925490  611.923678  193.682379  \n",
       "16582          0.0  0.925490  544.732730  181.237718  "
      ]
     },
     "execution_count": 14,
     "metadata": {},
     "output_type": "execute_result"
    }
   ],
   "source": [
    "keypoints_1_7_frame_cleaned = pd.concat([keypoints_1_7_folder_filtered, X_cleaned['X'].rename('X_cleaned'), Y_cleaned['Y'].rename('Y_cleaned')], axis=1)\n",
    "keypoints_1_7_frame_cleaned[keypoints_1_7_frame_cleaned['Probability']==0].head()"
   ]
  },
  {
   "cell_type": "code",
   "execution_count": 15,
   "metadata": {
    "scrolled": false
   },
   "outputs": [],
   "source": [
    "# keypoints_1_7_folder_filtered.pivot_table(index = ['Gesture', 'Sub folder No.'], values='Probability', columns = 'Joint', aggfunc = lambda x:np.count_nonzero(x==0))"
   ]
  },
  {
   "cell_type": "code",
   "execution_count": 23,
   "metadata": {
    "scrolled": false
   },
   "outputs": [
    {
     "data": {
      "application/vnd.jupyter.widget-view+json": {
       "model_id": "c3478cc346db4829aae1a76a89f81c7e",
       "version_major": 2,
       "version_minor": 0
      },
      "text/plain": [
       "Canvas(toolbar=Toolbar(toolitems=[('Home', 'Reset original view', 'home', 'home'), ('Back', 'Back to previous …"
      ]
     },
     "metadata": {},
     "output_type": "display_data"
    },
    {
     "data": {
      "text/plain": [
       "<matplotlib.axes._subplots.AxesSubplot at 0x16dac649b70>"
      ]
     },
     "execution_count": 23,
     "metadata": {},
     "output_type": "execute_result"
    }
   ],
   "source": [
    "keypoints_1_7_frame_cleaned[keypoints_1_7_frame_cleaned['Joint']==3].pivot_table(index = 'Frame No.', columns = ['Gesture', 'Sub folder No.'], values='X_cleaned').plot.line()"
   ]
  },
  {
   "cell_type": "code",
   "execution_count": 24,
   "metadata": {},
   "outputs": [
    {
     "data": {
      "application/vnd.jupyter.widget-view+json": {
       "model_id": "7771f721dbb3415283d01e3eac70d107",
       "version_major": 2,
       "version_minor": 0
      },
      "text/plain": [
       "Canvas(toolbar=Toolbar(toolitems=[('Home', 'Reset original view', 'home', 'home'), ('Back', 'Back to previous …"
      ]
     },
     "metadata": {},
     "output_type": "display_data"
    },
    {
     "data": {
      "text/plain": [
       "<matplotlib.axes._subplots.AxesSubplot at 0x16dabd99d68>"
      ]
     },
     "execution_count": 24,
     "metadata": {},
     "output_type": "execute_result"
    }
   ],
   "source": [
    "keypoints_1_7_frame_cleaned[keypoints_1_7_frame_cleaned['Joint']==3].pivot_table(index = 'Frame No.', columns = ['Gesture', 'Sub folder No.'], values='Depth').plot.line()"
   ]
  },
  {
   "cell_type": "code",
   "execution_count": 29,
   "metadata": {},
   "outputs": [
    {
     "data": {
      "text/html": [
       "<div>\n",
       "<style scoped>\n",
       "    .dataframe tbody tr th:only-of-type {\n",
       "        vertical-align: middle;\n",
       "    }\n",
       "\n",
       "    .dataframe tbody tr th {\n",
       "        vertical-align: top;\n",
       "    }\n",
       "\n",
       "    .dataframe thead th {\n",
       "        text-align: right;\n",
       "    }\n",
       "</style>\n",
       "<table border=\"1\" class=\"dataframe\">\n",
       "  <thead>\n",
       "    <tr style=\"text-align: right;\">\n",
       "      <th></th>\n",
       "      <th></th>\n",
       "      <th>Frame No.</th>\n",
       "    </tr>\n",
       "    <tr>\n",
       "      <th>Gesture</th>\n",
       "      <th>Sub folder No.</th>\n",
       "      <th></th>\n",
       "    </tr>\n",
       "  </thead>\n",
       "  <tbody>\n",
       "    <tr>\n",
       "      <th rowspan=\"15\" valign=\"top\">1</th>\n",
       "      <th>4</th>\n",
       "      <td>54</td>\n",
       "    </tr>\n",
       "    <tr>\n",
       "      <th>12</th>\n",
       "      <td>51</td>\n",
       "    </tr>\n",
       "    <tr>\n",
       "      <th>15</th>\n",
       "      <td>69</td>\n",
       "    </tr>\n",
       "    <tr>\n",
       "      <th>19</th>\n",
       "      <td>269</td>\n",
       "    </tr>\n",
       "    <tr>\n",
       "      <th>23</th>\n",
       "      <td>63</td>\n",
       "    </tr>\n",
       "    <tr>\n",
       "      <th>24</th>\n",
       "      <td>51</td>\n",
       "    </tr>\n",
       "    <tr>\n",
       "      <th>26</th>\n",
       "      <td>51</td>\n",
       "    </tr>\n",
       "    <tr>\n",
       "      <th>27</th>\n",
       "      <td>195</td>\n",
       "    </tr>\n",
       "    <tr>\n",
       "      <th>28</th>\n",
       "      <td>61</td>\n",
       "    </tr>\n",
       "    <tr>\n",
       "      <th>29</th>\n",
       "      <td>55</td>\n",
       "    </tr>\n",
       "    <tr>\n",
       "      <th>30</th>\n",
       "      <td>62</td>\n",
       "    </tr>\n",
       "    <tr>\n",
       "      <th>31</th>\n",
       "      <td>186</td>\n",
       "    </tr>\n",
       "    <tr>\n",
       "      <th>32</th>\n",
       "      <td>64</td>\n",
       "    </tr>\n",
       "    <tr>\n",
       "      <th>33</th>\n",
       "      <td>51</td>\n",
       "    </tr>\n",
       "    <tr>\n",
       "      <th>34</th>\n",
       "      <td>56</td>\n",
       "    </tr>\n",
       "    <tr>\n",
       "      <th rowspan=\"18\" valign=\"top\">2</th>\n",
       "      <th>1</th>\n",
       "      <td>220</td>\n",
       "    </tr>\n",
       "    <tr>\n",
       "      <th>2</th>\n",
       "      <td>163</td>\n",
       "    </tr>\n",
       "    <tr>\n",
       "      <th>3</th>\n",
       "      <td>79</td>\n",
       "    </tr>\n",
       "    <tr>\n",
       "      <th>4</th>\n",
       "      <td>127</td>\n",
       "    </tr>\n",
       "    <tr>\n",
       "      <th>5</th>\n",
       "      <td>77</td>\n",
       "    </tr>\n",
       "    <tr>\n",
       "      <th>6</th>\n",
       "      <td>323</td>\n",
       "    </tr>\n",
       "    <tr>\n",
       "      <th>10</th>\n",
       "      <td>194</td>\n",
       "    </tr>\n",
       "    <tr>\n",
       "      <th>11</th>\n",
       "      <td>159</td>\n",
       "    </tr>\n",
       "    <tr>\n",
       "      <th>12</th>\n",
       "      <td>92</td>\n",
       "    </tr>\n",
       "    <tr>\n",
       "      <th>13</th>\n",
       "      <td>209</td>\n",
       "    </tr>\n",
       "    <tr>\n",
       "      <th>14</th>\n",
       "      <td>81</td>\n",
       "    </tr>\n",
       "    <tr>\n",
       "      <th>15</th>\n",
       "      <td>83</td>\n",
       "    </tr>\n",
       "    <tr>\n",
       "      <th>16</th>\n",
       "      <td>215</td>\n",
       "    </tr>\n",
       "    <tr>\n",
       "      <th>17</th>\n",
       "      <td>59</td>\n",
       "    </tr>\n",
       "    <tr>\n",
       "      <th>18</th>\n",
       "      <td>56</td>\n",
       "    </tr>\n",
       "    <tr>\n",
       "      <th>31</th>\n",
       "      <td>82</td>\n",
       "    </tr>\n",
       "    <tr>\n",
       "      <th>32</th>\n",
       "      <td>103</td>\n",
       "    </tr>\n",
       "    <tr>\n",
       "      <th>33</th>\n",
       "      <td>124</td>\n",
       "    </tr>\n",
       "    <tr>\n",
       "      <th rowspan=\"15\" valign=\"top\">3</th>\n",
       "      <th>1</th>\n",
       "      <td>393</td>\n",
       "    </tr>\n",
       "    <tr>\n",
       "      <th>2</th>\n",
       "      <td>101</td>\n",
       "    </tr>\n",
       "    <tr>\n",
       "      <th>3</th>\n",
       "      <td>61</td>\n",
       "    </tr>\n",
       "    <tr>\n",
       "      <th>4</th>\n",
       "      <td>179</td>\n",
       "    </tr>\n",
       "    <tr>\n",
       "      <th>5</th>\n",
       "      <td>557</td>\n",
       "    </tr>\n",
       "    <tr>\n",
       "      <th>6</th>\n",
       "      <td>99</td>\n",
       "    </tr>\n",
       "    <tr>\n",
       "      <th>7</th>\n",
       "      <td>94</td>\n",
       "    </tr>\n",
       "    <tr>\n",
       "      <th>8</th>\n",
       "      <td>95</td>\n",
       "    </tr>\n",
       "    <tr>\n",
       "      <th>9</th>\n",
       "      <td>110</td>\n",
       "    </tr>\n",
       "    <tr>\n",
       "      <th>10</th>\n",
       "      <td>126</td>\n",
       "    </tr>\n",
       "    <tr>\n",
       "      <th>11</th>\n",
       "      <td>91</td>\n",
       "    </tr>\n",
       "    <tr>\n",
       "      <th>12</th>\n",
       "      <td>70</td>\n",
       "    </tr>\n",
       "    <tr>\n",
       "      <th>13</th>\n",
       "      <td>59</td>\n",
       "    </tr>\n",
       "    <tr>\n",
       "      <th>14</th>\n",
       "      <td>147</td>\n",
       "    </tr>\n",
       "    <tr>\n",
       "      <th>15</th>\n",
       "      <td>151</td>\n",
       "    </tr>\n",
       "  </tbody>\n",
       "</table>\n",
       "</div>"
      ],
      "text/plain": [
       "                        Frame No.\n",
       "Gesture Sub folder No.           \n",
       "1       4                      54\n",
       "        12                     51\n",
       "        15                     69\n",
       "        19                    269\n",
       "        23                     63\n",
       "        24                     51\n",
       "        26                     51\n",
       "        27                    195\n",
       "        28                     61\n",
       "        29                     55\n",
       "        30                     62\n",
       "        31                    186\n",
       "        32                     64\n",
       "        33                     51\n",
       "        34                     56\n",
       "2       1                     220\n",
       "        2                     163\n",
       "        3                      79\n",
       "        4                     127\n",
       "        5                      77\n",
       "        6                     323\n",
       "        10                    194\n",
       "        11                    159\n",
       "        12                     92\n",
       "        13                    209\n",
       "        14                     81\n",
       "        15                     83\n",
       "        16                    215\n",
       "        17                     59\n",
       "        18                     56\n",
       "        31                     82\n",
       "        32                    103\n",
       "        33                    124\n",
       "3       1                     393\n",
       "        2                     101\n",
       "        3                      61\n",
       "        4                     179\n",
       "        5                     557\n",
       "        6                      99\n",
       "        7                      94\n",
       "        8                      95\n",
       "        9                     110\n",
       "        10                    126\n",
       "        11                     91\n",
       "        12                     70\n",
       "        13                     59\n",
       "        14                    147\n",
       "        15                    151"
      ]
     },
     "execution_count": 29,
     "metadata": {},
     "output_type": "execute_result"
    }
   ],
   "source": [
    "keypoints_1_7_frame_cleaned.pivot_table(index=['Gesture', 'Sub folder No.'], values = 'Frame No.', aggfunc = lambda x: max(x))"
   ]
  }
 ],
 "metadata": {
  "kernelspec": {
   "display_name": "Python 3",
   "language": "python",
   "name": "python3"
  },
  "language_info": {
   "codemirror_mode": {
    "name": "ipython",
    "version": 3
   },
   "file_extension": ".py",
   "mimetype": "text/x-python",
   "name": "python",
   "nbconvert_exporter": "python",
   "pygments_lexer": "ipython3",
   "version": "3.7.3"
  },
  "pycharm": {
   "stem_cell": {
    "cell_type": "raw",
    "metadata": {
     "collapsed": false
    },
    "source": []
   }
  }
 },
 "nbformat": 4,
 "nbformat_minor": 1
}
